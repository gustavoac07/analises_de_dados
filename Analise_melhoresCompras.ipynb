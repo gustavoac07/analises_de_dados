{
  "nbformat": 4,
  "nbformat_minor": 0,
  "metadata": {
    "colab": {
      "provenance": []
    },
    "kernelspec": {
      "name": "python3",
      "display_name": "Python 3"
    },
    "language_info": {
      "name": "python"
    }
  },
  "cells": [
    {
      "cell_type": "markdown",
      "source": [
        "# **Analise dos dados da planilha de clientes da melhores compras**"
      ],
      "metadata": {
        "id": "rD7eEf0VodEQ"
      }
    },
    {
      "cell_type": "code",
      "execution_count": 1,
      "metadata": {
        "id": "XKJ4yfQinFeD"
      },
      "outputs": [],
      "source": [
        "# Bibliotecas que podem ser util para analise dos dados do data frame:\n",
        "import pandas as pd\n",
        "import numpy as np\n",
        "import matplotlib.pyplot as plt\n",
        "import seaborn as sns\n",
        "import scipy.stats as stats"
      ]
    },
    {
      "cell_type": "code",
      "source": [
        "# Subindo para o Python a planilha de clientes para a analise\n",
        "# O nome da variavel será Planilha_mc (planilha melhores compras)\n",
        "# Utilizado pd que é referente a biblioteca Pandas.\n",
        "\n",
        "planilha_mc = pd.read_excel('/content/Cap 01 Asset_PBL_Perfil_Clientes_Top_ECommerce.xlsx')"
      ],
      "metadata": {
        "id": "YyTq8H-ynLJ0"
      },
      "execution_count": 2,
      "outputs": []
    },
    {
      "cell_type": "code",
      "source": [
        "# Realizando através do comando (head) a leitura dos dados da planilha\n",
        "# Filtrado somente os 10 primeiros dados.\n",
        "\n",
        "planilha_mc.head(10)"
      ],
      "metadata": {
        "colab": {
          "base_uri": "https://localhost:8080/",
          "height": 363
        },
        "id": "URvgEF-Tnkh3",
        "outputId": "3bc2819a-6872-452c-b935-b5fcc4203a0e"
      },
      "execution_count": 3,
      "outputs": [
        {
          "output_type": "execute_result",
          "data": {
            "text/plain": [
              "  Região País             Estado       Data       FormaPagto  \\\n",
              "0    Nordeste              Piauí 2023-11-17   Cartão Crédito   \n",
              "1     Sudeste          São Paulo 2023-10-13  Boleto Bancário   \n",
              "2     Sudeste       Minas Gerais 2023-12-24         Dinheiro   \n",
              "3     Sudeste     Espírito Santo 2023-12-19         Dinheiro   \n",
              "4         Sul             Paraná 2023-12-05    Cartão Débito   \n",
              "5         Sul  Rio Grande do Sul 2023-09-01  Boleto Bancário   \n",
              "6       Norte               Acre 2023-12-31         Dinheiro   \n",
              "7       Norte              Amapá 2023-11-05              Pix   \n",
              "8       Norte               Pará 2023-11-04   Cartão Crédito   \n",
              "9       Norte           Rondônia 2023-11-05    Cartão Débito   \n",
              "\n",
              "  Sexo Informado Cliente  Idade  valor ticket médio  numero pedido  \n",
              "0                      F     22                 102       37380646  \n",
              "1                      M     21                  32       35870530  \n",
              "2                      M     22                 101       38158515  \n",
              "3                      F     20                  70       36341482  \n",
              "4                      M     21                  67       38416338  \n",
              "5                      F     22                 108       38022271  \n",
              "6                      F     22                  49       36263144  \n",
              "7                      M     21                  56       37511576  \n",
              "8                      F     22                 105       36265605  \n",
              "9                      F     21                  93       38213309  "
            ],
            "text/html": [
              "\n",
              "  <div id=\"df-26de073d-63e4-44bb-9354-4c30018276ed\" class=\"colab-df-container\">\n",
              "    <div>\n",
              "<style scoped>\n",
              "    .dataframe tbody tr th:only-of-type {\n",
              "        vertical-align: middle;\n",
              "    }\n",
              "\n",
              "    .dataframe tbody tr th {\n",
              "        vertical-align: top;\n",
              "    }\n",
              "\n",
              "    .dataframe thead th {\n",
              "        text-align: right;\n",
              "    }\n",
              "</style>\n",
              "<table border=\"1\" class=\"dataframe\">\n",
              "  <thead>\n",
              "    <tr style=\"text-align: right;\">\n",
              "      <th></th>\n",
              "      <th>Região País</th>\n",
              "      <th>Estado</th>\n",
              "      <th>Data</th>\n",
              "      <th>FormaPagto</th>\n",
              "      <th>Sexo Informado Cliente</th>\n",
              "      <th>Idade</th>\n",
              "      <th>valor ticket médio</th>\n",
              "      <th>numero pedido</th>\n",
              "    </tr>\n",
              "  </thead>\n",
              "  <tbody>\n",
              "    <tr>\n",
              "      <th>0</th>\n",
              "      <td>Nordeste</td>\n",
              "      <td>Piauí</td>\n",
              "      <td>2023-11-17</td>\n",
              "      <td>Cartão Crédito</td>\n",
              "      <td>F</td>\n",
              "      <td>22</td>\n",
              "      <td>102</td>\n",
              "      <td>37380646</td>\n",
              "    </tr>\n",
              "    <tr>\n",
              "      <th>1</th>\n",
              "      <td>Sudeste</td>\n",
              "      <td>São Paulo</td>\n",
              "      <td>2023-10-13</td>\n",
              "      <td>Boleto Bancário</td>\n",
              "      <td>M</td>\n",
              "      <td>21</td>\n",
              "      <td>32</td>\n",
              "      <td>35870530</td>\n",
              "    </tr>\n",
              "    <tr>\n",
              "      <th>2</th>\n",
              "      <td>Sudeste</td>\n",
              "      <td>Minas Gerais</td>\n",
              "      <td>2023-12-24</td>\n",
              "      <td>Dinheiro</td>\n",
              "      <td>M</td>\n",
              "      <td>22</td>\n",
              "      <td>101</td>\n",
              "      <td>38158515</td>\n",
              "    </tr>\n",
              "    <tr>\n",
              "      <th>3</th>\n",
              "      <td>Sudeste</td>\n",
              "      <td>Espírito Santo</td>\n",
              "      <td>2023-12-19</td>\n",
              "      <td>Dinheiro</td>\n",
              "      <td>F</td>\n",
              "      <td>20</td>\n",
              "      <td>70</td>\n",
              "      <td>36341482</td>\n",
              "    </tr>\n",
              "    <tr>\n",
              "      <th>4</th>\n",
              "      <td>Sul</td>\n",
              "      <td>Paraná</td>\n",
              "      <td>2023-12-05</td>\n",
              "      <td>Cartão Débito</td>\n",
              "      <td>M</td>\n",
              "      <td>21</td>\n",
              "      <td>67</td>\n",
              "      <td>38416338</td>\n",
              "    </tr>\n",
              "    <tr>\n",
              "      <th>5</th>\n",
              "      <td>Sul</td>\n",
              "      <td>Rio Grande do Sul</td>\n",
              "      <td>2023-09-01</td>\n",
              "      <td>Boleto Bancário</td>\n",
              "      <td>F</td>\n",
              "      <td>22</td>\n",
              "      <td>108</td>\n",
              "      <td>38022271</td>\n",
              "    </tr>\n",
              "    <tr>\n",
              "      <th>6</th>\n",
              "      <td>Norte</td>\n",
              "      <td>Acre</td>\n",
              "      <td>2023-12-31</td>\n",
              "      <td>Dinheiro</td>\n",
              "      <td>F</td>\n",
              "      <td>22</td>\n",
              "      <td>49</td>\n",
              "      <td>36263144</td>\n",
              "    </tr>\n",
              "    <tr>\n",
              "      <th>7</th>\n",
              "      <td>Norte</td>\n",
              "      <td>Amapá</td>\n",
              "      <td>2023-11-05</td>\n",
              "      <td>Pix</td>\n",
              "      <td>M</td>\n",
              "      <td>21</td>\n",
              "      <td>56</td>\n",
              "      <td>37511576</td>\n",
              "    </tr>\n",
              "    <tr>\n",
              "      <th>8</th>\n",
              "      <td>Norte</td>\n",
              "      <td>Pará</td>\n",
              "      <td>2023-11-04</td>\n",
              "      <td>Cartão Crédito</td>\n",
              "      <td>F</td>\n",
              "      <td>22</td>\n",
              "      <td>105</td>\n",
              "      <td>36265605</td>\n",
              "    </tr>\n",
              "    <tr>\n",
              "      <th>9</th>\n",
              "      <td>Norte</td>\n",
              "      <td>Rondônia</td>\n",
              "      <td>2023-11-05</td>\n",
              "      <td>Cartão Débito</td>\n",
              "      <td>F</td>\n",
              "      <td>21</td>\n",
              "      <td>93</td>\n",
              "      <td>38213309</td>\n",
              "    </tr>\n",
              "  </tbody>\n",
              "</table>\n",
              "</div>\n",
              "    <div class=\"colab-df-buttons\">\n",
              "\n",
              "  <div class=\"colab-df-container\">\n",
              "    <button class=\"colab-df-convert\" onclick=\"convertToInteractive('df-26de073d-63e4-44bb-9354-4c30018276ed')\"\n",
              "            title=\"Convert this dataframe to an interactive table.\"\n",
              "            style=\"display:none;\">\n",
              "\n",
              "  <svg xmlns=\"http://www.w3.org/2000/svg\" height=\"24px\" viewBox=\"0 -960 960 960\">\n",
              "    <path d=\"M120-120v-720h720v720H120Zm60-500h600v-160H180v160Zm220 220h160v-160H400v160Zm0 220h160v-160H400v160ZM180-400h160v-160H180v160Zm440 0h160v-160H620v160ZM180-180h160v-160H180v160Zm440 0h160v-160H620v160Z\"/>\n",
              "  </svg>\n",
              "    </button>\n",
              "\n",
              "  <style>\n",
              "    .colab-df-container {\n",
              "      display:flex;\n",
              "      gap: 12px;\n",
              "    }\n",
              "\n",
              "    .colab-df-convert {\n",
              "      background-color: #E8F0FE;\n",
              "      border: none;\n",
              "      border-radius: 50%;\n",
              "      cursor: pointer;\n",
              "      display: none;\n",
              "      fill: #1967D2;\n",
              "      height: 32px;\n",
              "      padding: 0 0 0 0;\n",
              "      width: 32px;\n",
              "    }\n",
              "\n",
              "    .colab-df-convert:hover {\n",
              "      background-color: #E2EBFA;\n",
              "      box-shadow: 0px 1px 2px rgba(60, 64, 67, 0.3), 0px 1px 3px 1px rgba(60, 64, 67, 0.15);\n",
              "      fill: #174EA6;\n",
              "    }\n",
              "\n",
              "    .colab-df-buttons div {\n",
              "      margin-bottom: 4px;\n",
              "    }\n",
              "\n",
              "    [theme=dark] .colab-df-convert {\n",
              "      background-color: #3B4455;\n",
              "      fill: #D2E3FC;\n",
              "    }\n",
              "\n",
              "    [theme=dark] .colab-df-convert:hover {\n",
              "      background-color: #434B5C;\n",
              "      box-shadow: 0px 1px 3px 1px rgba(0, 0, 0, 0.15);\n",
              "      filter: drop-shadow(0px 1px 2px rgba(0, 0, 0, 0.3));\n",
              "      fill: #FFFFFF;\n",
              "    }\n",
              "  </style>\n",
              "\n",
              "    <script>\n",
              "      const buttonEl =\n",
              "        document.querySelector('#df-26de073d-63e4-44bb-9354-4c30018276ed button.colab-df-convert');\n",
              "      buttonEl.style.display =\n",
              "        google.colab.kernel.accessAllowed ? 'block' : 'none';\n",
              "\n",
              "      async function convertToInteractive(key) {\n",
              "        const element = document.querySelector('#df-26de073d-63e4-44bb-9354-4c30018276ed');\n",
              "        const dataTable =\n",
              "          await google.colab.kernel.invokeFunction('convertToInteractive',\n",
              "                                                    [key], {});\n",
              "        if (!dataTable) return;\n",
              "\n",
              "        const docLinkHtml = 'Like what you see? Visit the ' +\n",
              "          '<a target=\"_blank\" href=https://colab.research.google.com/notebooks/data_table.ipynb>data table notebook</a>'\n",
              "          + ' to learn more about interactive tables.';\n",
              "        element.innerHTML = '';\n",
              "        dataTable['output_type'] = 'display_data';\n",
              "        await google.colab.output.renderOutput(dataTable, element);\n",
              "        const docLink = document.createElement('div');\n",
              "        docLink.innerHTML = docLinkHtml;\n",
              "        element.appendChild(docLink);\n",
              "      }\n",
              "    </script>\n",
              "  </div>\n",
              "\n",
              "\n",
              "<div id=\"df-648a8333-0beb-42f6-8aea-bc5ebf7b88c3\">\n",
              "  <button class=\"colab-df-quickchart\" onclick=\"quickchart('df-648a8333-0beb-42f6-8aea-bc5ebf7b88c3')\"\n",
              "            title=\"Suggest charts\"\n",
              "            style=\"display:none;\">\n",
              "\n",
              "<svg xmlns=\"http://www.w3.org/2000/svg\" height=\"24px\"viewBox=\"0 0 24 24\"\n",
              "     width=\"24px\">\n",
              "    <g>\n",
              "        <path d=\"M19 3H5c-1.1 0-2 .9-2 2v14c0 1.1.9 2 2 2h14c1.1 0 2-.9 2-2V5c0-1.1-.9-2-2-2zM9 17H7v-7h2v7zm4 0h-2V7h2v10zm4 0h-2v-4h2v4z\"/>\n",
              "    </g>\n",
              "</svg>\n",
              "  </button>\n",
              "\n",
              "<style>\n",
              "  .colab-df-quickchart {\n",
              "      --bg-color: #E8F0FE;\n",
              "      --fill-color: #1967D2;\n",
              "      --hover-bg-color: #E2EBFA;\n",
              "      --hover-fill-color: #174EA6;\n",
              "      --disabled-fill-color: #AAA;\n",
              "      --disabled-bg-color: #DDD;\n",
              "  }\n",
              "\n",
              "  [theme=dark] .colab-df-quickchart {\n",
              "      --bg-color: #3B4455;\n",
              "      --fill-color: #D2E3FC;\n",
              "      --hover-bg-color: #434B5C;\n",
              "      --hover-fill-color: #FFFFFF;\n",
              "      --disabled-bg-color: #3B4455;\n",
              "      --disabled-fill-color: #666;\n",
              "  }\n",
              "\n",
              "  .colab-df-quickchart {\n",
              "    background-color: var(--bg-color);\n",
              "    border: none;\n",
              "    border-radius: 50%;\n",
              "    cursor: pointer;\n",
              "    display: none;\n",
              "    fill: var(--fill-color);\n",
              "    height: 32px;\n",
              "    padding: 0;\n",
              "    width: 32px;\n",
              "  }\n",
              "\n",
              "  .colab-df-quickchart:hover {\n",
              "    background-color: var(--hover-bg-color);\n",
              "    box-shadow: 0 1px 2px rgba(60, 64, 67, 0.3), 0 1px 3px 1px rgba(60, 64, 67, 0.15);\n",
              "    fill: var(--button-hover-fill-color);\n",
              "  }\n",
              "\n",
              "  .colab-df-quickchart-complete:disabled,\n",
              "  .colab-df-quickchart-complete:disabled:hover {\n",
              "    background-color: var(--disabled-bg-color);\n",
              "    fill: var(--disabled-fill-color);\n",
              "    box-shadow: none;\n",
              "  }\n",
              "\n",
              "  .colab-df-spinner {\n",
              "    border: 2px solid var(--fill-color);\n",
              "    border-color: transparent;\n",
              "    border-bottom-color: var(--fill-color);\n",
              "    animation:\n",
              "      spin 1s steps(1) infinite;\n",
              "  }\n",
              "\n",
              "  @keyframes spin {\n",
              "    0% {\n",
              "      border-color: transparent;\n",
              "      border-bottom-color: var(--fill-color);\n",
              "      border-left-color: var(--fill-color);\n",
              "    }\n",
              "    20% {\n",
              "      border-color: transparent;\n",
              "      border-left-color: var(--fill-color);\n",
              "      border-top-color: var(--fill-color);\n",
              "    }\n",
              "    30% {\n",
              "      border-color: transparent;\n",
              "      border-left-color: var(--fill-color);\n",
              "      border-top-color: var(--fill-color);\n",
              "      border-right-color: var(--fill-color);\n",
              "    }\n",
              "    40% {\n",
              "      border-color: transparent;\n",
              "      border-right-color: var(--fill-color);\n",
              "      border-top-color: var(--fill-color);\n",
              "    }\n",
              "    60% {\n",
              "      border-color: transparent;\n",
              "      border-right-color: var(--fill-color);\n",
              "    }\n",
              "    80% {\n",
              "      border-color: transparent;\n",
              "      border-right-color: var(--fill-color);\n",
              "      border-bottom-color: var(--fill-color);\n",
              "    }\n",
              "    90% {\n",
              "      border-color: transparent;\n",
              "      border-bottom-color: var(--fill-color);\n",
              "    }\n",
              "  }\n",
              "</style>\n",
              "\n",
              "  <script>\n",
              "    async function quickchart(key) {\n",
              "      const quickchartButtonEl =\n",
              "        document.querySelector('#' + key + ' button');\n",
              "      quickchartButtonEl.disabled = true;  // To prevent multiple clicks.\n",
              "      quickchartButtonEl.classList.add('colab-df-spinner');\n",
              "      try {\n",
              "        const charts = await google.colab.kernel.invokeFunction(\n",
              "            'suggestCharts', [key], {});\n",
              "      } catch (error) {\n",
              "        console.error('Error during call to suggestCharts:', error);\n",
              "      }\n",
              "      quickchartButtonEl.classList.remove('colab-df-spinner');\n",
              "      quickchartButtonEl.classList.add('colab-df-quickchart-complete');\n",
              "    }\n",
              "    (() => {\n",
              "      let quickchartButtonEl =\n",
              "        document.querySelector('#df-648a8333-0beb-42f6-8aea-bc5ebf7b88c3 button');\n",
              "      quickchartButtonEl.style.display =\n",
              "        google.colab.kernel.accessAllowed ? 'block' : 'none';\n",
              "    })();\n",
              "  </script>\n",
              "</div>\n",
              "\n",
              "    </div>\n",
              "  </div>\n"
            ],
            "application/vnd.google.colaboratory.intrinsic+json": {
              "type": "dataframe",
              "variable_name": "planilha_mc",
              "summary": "{\n  \"name\": \"planilha_mc\",\n  \"rows\": 47835,\n  \"fields\": [\n    {\n      \"column\": \"Regi\\u00e3o Pa\\u00eds\",\n      \"properties\": {\n        \"dtype\": \"category\",\n        \"num_unique_values\": 5,\n        \"samples\": [\n          \"Sudeste\",\n          \"Centro Oeste\",\n          \"Sul\"\n        ],\n        \"semantic_type\": \"\",\n        \"description\": \"\"\n      }\n    },\n    {\n      \"column\": \"Estado\",\n      \"properties\": {\n        \"dtype\": \"category\",\n        \"num_unique_values\": 25,\n        \"samples\": [\n          \"Par\\u00e1\",\n          \"Distrito Federal\",\n          \"Piau\\u00ed\"\n        ],\n        \"semantic_type\": \"\",\n        \"description\": \"\"\n      }\n    },\n    {\n      \"column\": \"Data\",\n      \"properties\": {\n        \"dtype\": \"date\",\n        \"min\": \"2023-09-01 00:00:00\",\n        \"max\": \"2024-05-01 00:00:00\",\n        \"num_unique_values\": 244,\n        \"samples\": [\n          \"2023-12-15 00:00:00\",\n          \"2023-12-31 00:00:00\",\n          \"2024-01-18 00:00:00\"\n        ],\n        \"semantic_type\": \"\",\n        \"description\": \"\"\n      }\n    },\n    {\n      \"column\": \"FormaPagto\",\n      \"properties\": {\n        \"dtype\": \"category\",\n        \"num_unique_values\": 5,\n        \"samples\": [\n          \"Boleto Banc\\u00e1rio\",\n          \"Pix\",\n          \"Dinheiro\"\n        ],\n        \"semantic_type\": \"\",\n        \"description\": \"\"\n      }\n    },\n    {\n      \"column\": \"Sexo Informado Cliente\",\n      \"properties\": {\n        \"dtype\": \"category\",\n        \"num_unique_values\": 3,\n        \"samples\": [\n          \"F\",\n          \"M\",\n          \"N\\u00e3o informado\"\n        ],\n        \"semantic_type\": \"\",\n        \"description\": \"\"\n      }\n    },\n    {\n      \"column\": \"Idade\",\n      \"properties\": {\n        \"dtype\": \"number\",\n        \"std\": 16,\n        \"min\": 0,\n        \"max\": 987,\n        \"num_unique_values\": 71,\n        \"samples\": [\n          35,\n          22,\n          40\n        ],\n        \"semantic_type\": \"\",\n        \"description\": \"\"\n      }\n    },\n    {\n      \"column\": \"valor ticket m\\u00e9dio\",\n      \"properties\": {\n        \"dtype\": \"number\",\n        \"std\": 166,\n        \"min\": -9876,\n        \"max\": 690,\n        \"num_unique_values\": 695,\n        \"samples\": [\n          603,\n          533,\n          556\n        ],\n        \"semantic_type\": \"\",\n        \"description\": \"\"\n      }\n    },\n    {\n      \"column\": \"numero pedido\",\n      \"properties\": {\n        \"dtype\": \"number\",\n        \"std\": 969948,\n        \"min\": 35245398,\n        \"max\": 38612234,\n        \"num_unique_values\": 47462,\n        \"samples\": [\n          36001339,\n          36796552,\n          37529789\n        ],\n        \"semantic_type\": \"\",\n        \"description\": \"\"\n      }\n    }\n  ]\n}"
            }
          },
          "metadata": {},
          "execution_count": 3
        }
      ]
    },
    {
      "cell_type": "markdown",
      "source": [
        "**Iniciando as analises dos dados conforme as necessidades de negocio**"
      ],
      "metadata": {
        "id": "o5ZfUX4Roysy"
      }
    },
    {
      "cell_type": "code",
      "source": [
        "# Conhecendo os dados, iniciaremos com a contagem de linhas que temos nessa planilha:\n",
        "\n",
        "Qtd_linhas = planilha_mc.shape[0]\n",
        "print(f'A planilha contem : {Qtd_linhas} de linhas')\n",
        "\n",
        "# São 47835 registros de clientes."
      ],
      "metadata": {
        "colab": {
          "base_uri": "https://localhost:8080/"
        },
        "id": "--OWuioHoHWG",
        "outputId": "4de86ecb-5ed3-4918-bffb-a31e8291512f"
      },
      "execution_count": 4,
      "outputs": [
        {
          "output_type": "stream",
          "name": "stdout",
          "text": [
            "A planilha contem : 47835 de linhas\n"
          ]
        }
      ]
    },
    {
      "cell_type": "markdown",
      "source": [
        "# **Existe valores Missing?**"
      ],
      "metadata": {
        "id": "sHCG33NXrinq"
      }
    },
    {
      "cell_type": "code",
      "source": [
        "# Os valores \"Missing\", são valores que o conjunto de dados estão sem preencher.\n",
        "\n",
        "valores_nulos = planilha_mc.isnull().sum()\n",
        "print(valores_nulos)\n",
        "\n",
        "#Após a execução do codigo, a principio não temos valores ausentes."
      ],
      "metadata": {
        "colab": {
          "base_uri": "https://localhost:8080/"
        },
        "id": "98NecXWFpc6v",
        "outputId": "4146c28c-961a-41be-8bc9-ea8d39e38319"
      },
      "execution_count": 5,
      "outputs": [
        {
          "output_type": "stream",
          "name": "stdout",
          "text": [
            "Região País               0\n",
            "Estado                    0\n",
            "Data                      0\n",
            "FormaPagto                0\n",
            "Sexo Informado Cliente    0\n",
            "Idade                     0\n",
            "valor ticket médio        0\n",
            "numero pedido             0\n",
            "dtype: int64\n"
          ]
        }
      ]
    },
    {
      "cell_type": "markdown",
      "source": [
        "# **Realizando analise mais profunda dentro do planilha**"
      ],
      "metadata": {
        "id": "12MJBRJxtAUQ"
      }
    },
    {
      "cell_type": "code",
      "source": [
        "# Realizando a analise dos dados da planilha para saber se existe outliers\n",
        "# Usarei os quantis 0.25 (primeiro quartil, Q1) e 0.75 (terceiro quartil, Q3) é para calcular o intervalo interquartil (IQR)\n",
        "# É uma abordagem comum para a identificação de outliers em uma distribuição de dados\n",
        "\n",
        "Q1 = planilha_mc['Idade'].quantile(0.25)\n",
        "Q3 = planilha_mc['Idade'].quantile(0.75)\n",
        "IQR = Q3 - Q1\n",
        "\n",
        "limite_inferior = Q1 - 1.5 * IQR\n",
        "limite_superior = Q3 + 1.5 * IQR\n",
        "\n",
        "outliers_idade = planilha_mc[(planilha_mc['Idade'] < limite_inferior) | (planilha_mc['Idade'] > limite_superior)]\n",
        "\n",
        "print(f\"Número de outliers na coluna 'Idade': {outliers_idade.shape[0]}\")\n"
      ],
      "metadata": {
        "colab": {
          "base_uri": "https://localhost:8080/"
        },
        "id": "-4ZysGH64Y1w",
        "outputId": "d9ae28c0-dffd-44eb-f3ae-ed2dd5d5105c"
      },
      "execution_count": 6,
      "outputs": [
        {
          "output_type": "stream",
          "name": "stdout",
          "text": [
            "Número de outliers na coluna 'Idade': 12\n"
          ]
        }
      ]
    },
    {
      "cell_type": "code",
      "source": [
        "# Criando o boxplot com destaque para outliers\n",
        "# Dessa forma fica mais nitido os valores extremos e justificando de forma visual a presença de valores que podemos classificar como outliers\n",
        "\n",
        "plt.figure(figsize=(8, 6))\n",
        "plt.boxplot(planilha_mc['Idade'], vert=False, flierprops=dict(marker='o', markersize=8, markerfacecolor='red', markeredgecolor='black'))\n",
        "plt.title(\"Boxplot da Idade com Destaque para Outliers\")\n",
        "plt.xlabel(\"Idade\")\n",
        "plt.show()"
      ],
      "metadata": {
        "colab": {
          "base_uri": "https://localhost:8080/",
          "height": 564
        },
        "id": "KsMRS50jS99R",
        "outputId": "b44422a2-de2b-47b9-f4fc-892b65deef67"
      },
      "execution_count": 7,
      "outputs": [
        {
          "output_type": "display_data",
          "data": {
            "text/plain": [
              "<Figure size 800x600 with 1 Axes>"
            ],
            "image/png": "[encoded data removed]"
          },
          "metadata": {}
        }
      ]
    },
    {
      "cell_type": "markdown",
      "source": [
        "Acima podemos identificar em pontos vermelhos os valores outliers\n",
        "\n",
        "Dentro do grafico boxplot temos as idades e a linha em vermelho seria as idades medias.\n",
        "\n",
        "Identifica o intervalo medio entre a idade minima e maxima e a idade média."
      ],
      "metadata": {
        "id": "6WCjugc0YGXP"
      }
    },
    {
      "cell_type": "code",
      "source": [
        "# A identificação dos outliers é uma estimativa, podendo ter e mesmo assim, podemos ter clientes com idades avançadas.\n",
        "# as idades avançadas não necessariamente representa um valor de outliers, já que podemos ter clientes acima da idade\n",
        "# pensando na idade média que as pessoas podem viver, podemos realizar essa consulta, só para constar que estão dentro dos parametro:\n",
        "# Filtragem de idades entre 18 e 90 anos\n",
        "\n",
        "idades_filtradas = planilha_mc[(planilha_mc['Idade'] >= 18) & (planilha_mc['Idade'] <= 90)]\n",
        "\n",
        "# Exibir as idades filtradas\n",
        "print(\"Idades entre 18 e 90 anos:\")\n",
        "print(idades_filtradas)\n"
      ],
      "metadata": {
        "colab": {
          "base_uri": "https://localhost:8080/"
        },
        "id": "9k_tP4eXxcak",
        "outputId": "9c804987-63e2-499a-db82-9900754019f0"
      },
      "execution_count": 8,
      "outputs": [
        {
          "output_type": "stream",
          "name": "stdout",
          "text": [
            "Idades entre 18 e 90 anos:\n",
            "      Região País           Estado       Data       FormaPagto  \\\n",
            "0        Nordeste            Piauí 2023-11-17   Cartão Crédito   \n",
            "1         Sudeste        São Paulo 2023-10-13  Boleto Bancário   \n",
            "2         Sudeste     Minas Gerais 2023-12-24         Dinheiro   \n",
            "3         Sudeste   Espírito Santo 2023-12-19         Dinheiro   \n",
            "4             Sul           Paraná 2023-12-05    Cartão Débito   \n",
            "...           ...              ...        ...              ...   \n",
            "47830     Sudeste        São Paulo 2024-02-29              Pix   \n",
            "47831     Sudeste     Minas Gerais 2024-03-23         Dinheiro   \n",
            "47832     Sudeste   Rio de Janeiro 2024-01-11    Cartão Débito   \n",
            "47833     Sudeste   Espírito Santo 2024-01-25    Cartão Débito   \n",
            "47834         Sul  Santa  Catarina 2024-02-10              Pix   \n",
            "\n",
            "      Sexo Informado Cliente  Idade  valor ticket médio  numero pedido  \n",
            "0                          F     22                 102       37380646  \n",
            "1                          M     21                  32       35870530  \n",
            "2                          M     22                 101       38158515  \n",
            "3                          F     20                  70       36341482  \n",
            "4                          M     21                  67       38416338  \n",
            "...                      ...    ...                 ...            ...  \n",
            "47830                      M     58                 178       38547192  \n",
            "47831                      M     47                 490       38286005  \n",
            "47832                      F     52                 690       37717645  \n",
            "47833                      M     34                 188       35803326  \n",
            "47834                      M     31                 193       35618300  \n",
            "\n",
            "[47821 rows x 8 columns]\n"
          ]
        }
      ]
    },
    {
      "cell_type": "code",
      "source": [
        "#consultando as idades maxima e minimas registradas na planilha:\n",
        "\n",
        "idade_max = planilha_mc['Idade'].max()\n",
        "idade_min = planilha_mc['Idade'].min()\n",
        "print(f\"A idade máxima é: {idade_max}\")\n",
        "print(f\"A idade mínima é: {idade_min}\")"
      ],
      "metadata": {
        "colab": {
          "base_uri": "https://localhost:8080/"
        },
        "id": "vGc-U2lD6oO9",
        "outputId": "b62a021c-b848-4a42-c4c4-ade9e5b41e56"
      },
      "execution_count": 9,
      "outputs": [
        {
          "output_type": "stream",
          "name": "stdout",
          "text": [
            "A idade máxima é: 987\n",
            "A idade mínima é: 0\n"
          ]
        }
      ]
    },
    {
      "cell_type": "code",
      "source": [
        "# Filtro das idades entre 18 e 90 anos\n",
        "idades_filtradas = planilha_mc[(planilha_mc['Idade'] >= 18) & (planilha_mc['Idade'] <= 90)]\n",
        "\n",
        "# Contar o número de linhas que temos clientes entre essa idade:\n",
        "qtd_idades_filtradas = idades_filtradas.shape[0]\n",
        "\n",
        "# Exibir o resultado\n",
        "print(f\"O número de linhas com idades entre 18 e 90 anos é: {qtd_idades_filtradas}\")\n"
      ],
      "metadata": {
        "colab": {
          "base_uri": "https://localhost:8080/"
        },
        "id": "rgPEJA8FygZu",
        "outputId": "09b84bed-de1c-4ee5-d492-711eef139fe9"
      },
      "execution_count": 10,
      "outputs": [
        {
          "output_type": "stream",
          "name": "stdout",
          "text": [
            "O número de linhas com idades entre 18 e 90 anos é: 47821\n"
          ]
        }
      ]
    },
    {
      "cell_type": "code",
      "source": [
        "# Filtro das idades que estão FORA do intervalo de 18 a 90 anos\n",
        "idades_fora_intervalo = planilha_mc[(planilha_mc['Idade'] < 18) | (planilha_mc['Idade'] > 90)]\n",
        "\n",
        "# Contar o número de linhas\n",
        "qtd_idades_fora_intervalo = idades_fora_intervalo.shape[0]\n",
        "\n",
        "# Exibir o resultado\n",
        "print(f\"O número de linhas com idades fora do intervalo de 18 a 90 anos é: {qtd_idades_fora_intervalo}\")\n"
      ],
      "metadata": {
        "colab": {
          "base_uri": "https://localhost:8080/"
        },
        "id": "oRsrf5yWy_OS",
        "outputId": "41bf985c-d861-4dff-d409-3b13f380c07c"
      },
      "execution_count": 11,
      "outputs": [
        {
          "output_type": "stream",
          "name": "stdout",
          "text": [
            "O número de linhas com idades fora do intervalo de 18 a 90 anos é: 14\n"
          ]
        }
      ]
    },
    {
      "cell_type": "code",
      "source": [
        "# Excluir as linhas em que a idade é maior que 90 anos\n",
        "planilha_mc_corrigida = planilha_mc[planilha_mc['Idade'] <= 90]"
      ],
      "metadata": {
        "id": "DXRQ1ONl7MHy"
      },
      "execution_count": 12,
      "outputs": []
    },
    {
      "cell_type": "code",
      "source": [
        "# Filtro das idades que estão FORA do intervalo de 18 a 90 anos,após a exclusão dos clientes acima dos 90 anos\n",
        "\n",
        "idades_fora_intervalo = planilha_mc_corrigida.loc[(planilha_mc_corrigida['Idade'] < 1) | (planilha_mc_corrigida['Idade'] > 90)]\n",
        "\n",
        "# Contar o número de linhas\n",
        "qtd_idades_fora_intervalo = idades_fora_intervalo.shape[0]\n",
        "\n",
        "# Exibir o resultado\n",
        "print(f\"O número de linhas com idades fora do intervalo de 18 a 90 anos é: {qtd_idades_fora_intervalo}\")"
      ],
      "metadata": {
        "colab": {
          "base_uri": "https://localhost:8080/"
        },
        "id": "A1v7Jcqr74co",
        "outputId": "e821ee8b-c522-4b0f-ae85-83a94c6c05a3"
      },
      "execution_count": 13,
      "outputs": [
        {
          "output_type": "stream",
          "name": "stdout",
          "text": [
            "O número de linhas com idades fora do intervalo de 18 a 90 anos é: 2\n"
          ]
        }
      ]
    },
    {
      "cell_type": "code",
      "source": [
        "# Remover linhas com valores faltantes na coluna 'Idade'\n",
        "planilha_mc_corrigida = planilha_mc_corrigida.dropna(subset=['Idade'])\n"
      ],
      "metadata": {
        "id": "UemefnlqGcGn"
      },
      "execution_count": 14,
      "outputs": []
    },
    {
      "cell_type": "code",
      "source": [
        "# Verificar se há valores nulos\n",
        "nulos = planilha_mc_corrigida['Idade'].isnull().sum()\n",
        "\n",
        "# Verificar se há valores abaixo de 0\n",
        "abaixo_de_0 = (planilha_mc_corrigida['Idade'] < 0).sum()\n",
        "\n",
        "print(f\"Valores nulos: {nulos}\")\n",
        "print(f\"Valores abaixo de 0: {abaixo_de_0}\")"
      ],
      "metadata": {
        "colab": {
          "base_uri": "https://localhost:8080/"
        },
        "id": "NHgu_gEe89FH",
        "outputId": "1ac93001-a97e-4882-e8f0-591eaea595dd"
      },
      "execution_count": 15,
      "outputs": [
        {
          "output_type": "stream",
          "name": "stdout",
          "text": [
            "Valores nulos: 0\n",
            "Valores abaixo de 0: 0\n"
          ]
        }
      ]
    },
    {
      "cell_type": "code",
      "source": [
        "# Verificar se há valores não numéricos\n",
        "nao_numericos = planilha_mc_corrigida['Idade'].apply(lambda x: not isinstance(x, (int, float))).sum()\n",
        "\n",
        "print(f\"Valores não numéricos: {nao_numericos}\")\n"
      ],
      "metadata": {
        "colab": {
          "base_uri": "https://localhost:8080/"
        },
        "id": "l8pPUdI4-xdh",
        "outputId": "ee0c826d-2fcf-4b6f-9e22-fa243d38b2dd"
      },
      "execution_count": 16,
      "outputs": [
        {
          "output_type": "stream",
          "name": "stdout",
          "text": [
            "Valores não numéricos: 0\n"
          ]
        }
      ]
    },
    {
      "cell_type": "code",
      "source": [
        "planilha_mc_corrigida.head(10)"
      ],
      "metadata": {
        "colab": {
          "base_uri": "https://localhost:8080/",
          "height": 363
        },
        "id": "PBvHN4xsIlqF",
        "outputId": "9e29adf8-1425-4403-83ff-90de4bb05524"
      },
      "execution_count": 17,
      "outputs": [
        {
          "output_type": "execute_result",
          "data": {
            "text/plain": [
              "  Região País             Estado       Data       FormaPagto  \\\n",
              "0    Nordeste              Piauí 2023-11-17   Cartão Crédito   \n",
              "1     Sudeste          São Paulo 2023-10-13  Boleto Bancário   \n",
              "2     Sudeste       Minas Gerais 2023-12-24         Dinheiro   \n",
              "3     Sudeste     Espírito Santo 2023-12-19         Dinheiro   \n",
              "4         Sul             Paraná 2023-12-05    Cartão Débito   \n",
              "5         Sul  Rio Grande do Sul 2023-09-01  Boleto Bancário   \n",
              "6       Norte               Acre 2023-12-31         Dinheiro   \n",
              "7       Norte              Amapá 2023-11-05              Pix   \n",
              "8       Norte               Pará 2023-11-04   Cartão Crédito   \n",
              "9       Norte           Rondônia 2023-11-05    Cartão Débito   \n",
              "\n",
              "  Sexo Informado Cliente  Idade  valor ticket médio  numero pedido  \n",
              "0                      F     22                 102       37380646  \n",
              "1                      M     21                  32       35870530  \n",
              "2                      M     22                 101       38158515  \n",
              "3                      F     20                  70       36341482  \n",
              "4                      M     21                  67       38416338  \n",
              "5                      F     22                 108       38022271  \n",
              "6                      F     22                  49       36263144  \n",
              "7                      M     21                  56       37511576  \n",
              "8                      F     22                 105       36265605  \n",
              "9                      F     21                  93       38213309  "
            ],
            "text/html": [
              "\n",
              "  <div id=\"df-985d3cfe-9f71-46c7-9db3-835cce4ed17f\" class=\"colab-df-container\">\n",
              "    <div>\n",
              "<style scoped>\n",
              "    .dataframe tbody tr th:only-of-type {\n",
              "        vertical-align: middle;\n",
              "    }\n",
              "\n",
              "    .dataframe tbody tr th {\n",
              "        vertical-align: top;\n",
              "    }\n",
              "\n",
              "    .dataframe thead th {\n",
              "        text-align: right;\n",
              "    }\n",
              "</style>\n",
              "<table border=\"1\" class=\"dataframe\">\n",
              "  <thead>\n",
              "    <tr style=\"text-align: right;\">\n",
              "      <th></th>\n",
              "      <th>Região País</th>\n",
              "      <th>Estado</th>\n",
              "      <th>Data</th>\n",
              "      <th>FormaPagto</th>\n",
              "      <th>Sexo Informado Cliente</th>\n",
              "      <th>Idade</th>\n",
              "      <th>valor ticket médio</th>\n",
              "      <th>numero pedido</th>\n",
              "    </tr>\n",
              "  </thead>\n",
              "  <tbody>\n",
              "    <tr>\n",
              "      <th>0</th>\n",
              "      <td>Nordeste</td>\n",
              "      <td>Piauí</td>\n",
              "      <td>2023-11-17</td>\n",
              "      <td>Cartão Crédito</td>\n",
              "      <td>F</td>\n",
              "      <td>22</td>\n",
              "      <td>102</td>\n",
              "      <td>37380646</td>\n",
              "    </tr>\n",
              "    <tr>\n",
              "      <th>1</th>\n",
              "      <td>Sudeste</td>\n",
              "      <td>São Paulo</td>\n",
              "      <td>2023-10-13</td>\n",
              "      <td>Boleto Bancário</td>\n",
              "      <td>M</td>\n",
              "      <td>21</td>\n",
              "      <td>32</td>\n",
              "      <td>35870530</td>\n",
              "    </tr>\n",
              "    <tr>\n",
              "      <th>2</th>\n",
              "      <td>Sudeste</td>\n",
              "      <td>Minas Gerais</td>\n",
              "      <td>2023-12-24</td>\n",
              "      <td>Dinheiro</td>\n",
              "      <td>M</td>\n",
              "      <td>22</td>\n",
              "      <td>101</td>\n",
              "      <td>38158515</td>\n",
              "    </tr>\n",
              "    <tr>\n",
              "      <th>3</th>\n",
              "      <td>Sudeste</td>\n",
              "      <td>Espírito Santo</td>\n",
              "      <td>2023-12-19</td>\n",
              "      <td>Dinheiro</td>\n",
              "      <td>F</td>\n",
              "      <td>20</td>\n",
              "      <td>70</td>\n",
              "      <td>36341482</td>\n",
              "    </tr>\n",
              "    <tr>\n",
              "      <th>4</th>\n",
              "      <td>Sul</td>\n",
              "      <td>Paraná</td>\n",
              "      <td>2023-12-05</td>\n",
              "      <td>Cartão Débito</td>\n",
              "      <td>M</td>\n",
              "      <td>21</td>\n",
              "      <td>67</td>\n",
              "      <td>38416338</td>\n",
              "    </tr>\n",
              "    <tr>\n",
              "      <th>5</th>\n",
              "      <td>Sul</td>\n",
              "      <td>Rio Grande do Sul</td>\n",
              "      <td>2023-09-01</td>\n",
              "      <td>Boleto Bancário</td>\n",
              "      <td>F</td>\n",
              "      <td>22</td>\n",
              "      <td>108</td>\n",
              "      <td>38022271</td>\n",
              "    </tr>\n",
              "    <tr>\n",
              "      <th>6</th>\n",
              "      <td>Norte</td>\n",
              "      <td>Acre</td>\n",
              "      <td>2023-12-31</td>\n",
              "      <td>Dinheiro</td>\n",
              "      <td>F</td>\n",
              "      <td>22</td>\n",
              "      <td>49</td>\n",
              "      <td>36263144</td>\n",
              "    </tr>\n",
              "    <tr>\n",
              "      <th>7</th>\n",
              "      <td>Norte</td>\n",
              "      <td>Amapá</td>\n",
              "      <td>2023-11-05</td>\n",
              "      <td>Pix</td>\n",
              "      <td>M</td>\n",
              "      <td>21</td>\n",
              "      <td>56</td>\n",
              "      <td>37511576</td>\n",
              "    </tr>\n",
              "    <tr>\n",
              "      <th>8</th>\n",
              "      <td>Norte</td>\n",
              "      <td>Pará</td>\n",
              "      <td>2023-11-04</td>\n",
              "      <td>Cartão Crédito</td>\n",
              "      <td>F</td>\n",
              "      <td>22</td>\n",
              "      <td>105</td>\n",
              "      <td>36265605</td>\n",
              "    </tr>\n",
              "    <tr>\n",
              "      <th>9</th>\n",
              "      <td>Norte</td>\n",
              "      <td>Rondônia</td>\n",
              "      <td>2023-11-05</td>\n",
              "      <td>Cartão Débito</td>\n",
              "      <td>F</td>\n",
              "      <td>21</td>\n",
              "      <td>93</td>\n",
              "      <td>38213309</td>\n",
              "    </tr>\n",
              "  </tbody>\n",
              "</table>\n",
              "</div>\n",
              "    <div class=\"colab-df-buttons\">\n",
              "\n",
              "  <div class=\"colab-df-container\">\n",
              "    <button class=\"colab-df-convert\" onclick=\"convertToInteractive('df-985d3cfe-9f71-46c7-9db3-835cce4ed17f')\"\n",
              "            title=\"Convert this dataframe to an interactive table.\"\n",
              "            style=\"display:none;\">\n",
              "\n",
              "  <svg xmlns=\"http://www.w3.org/2000/svg\" height=\"24px\" viewBox=\"0 -960 960 960\">\n",
              "    <path d=\"M120-120v-720h720v720H120Zm60-500h600v-160H180v160Zm220 220h160v-160H400v160Zm0 220h160v-160H400v160ZM180-400h160v-160H180v160Zm440 0h160v-160H620v160ZM180-180h160v-160H180v160Zm440 0h160v-160H620v160Z\"/>\n",
              "  </svg>\n",
              "    </button>\n",
              "\n",
              "  <style>\n",
              "    .colab-df-container {\n",
              "      display:flex;\n",
              "      gap: 12px;\n",
              "    }\n",
              "\n",
              "    .colab-df-convert {\n",
              "      background-color: #E8F0FE;\n",
              "      border: none;\n",
              "      border-radius: 50%;\n",
              "      cursor: pointer;\n",
              "      display: none;\n",
              "      fill: #1967D2;\n",
              "      height: 32px;\n",
              "      padding: 0 0 0 0;\n",
              "      width: 32px;\n",
              "    }\n",
              "\n",
              "    .colab-df-convert:hover {\n",
              "      background-color: #E2EBFA;\n",
              "      box-shadow: 0px 1px 2px rgba(60, 64, 67, 0.3), 0px 1px 3px 1px rgba(60, 64, 67, 0.15);\n",
              "      fill: #174EA6;\n",
              "    }\n",
              "\n",
              "    .colab-df-buttons div {\n",
              "      margin-bottom: 4px;\n",
              "    }\n",
              "\n",
              "    [theme=dark] .colab-df-convert {\n",
              "      background-color: #3B4455;\n",
              "      fill: #D2E3FC;\n",
              "    }\n",
              "\n",
              "    [theme=dark] .colab-df-convert:hover {\n",
              "      background-color: #434B5C;\n",
              "      box-shadow: 0px 1px 3px 1px rgba(0, 0, 0, 0.15);\n",
              "      filter: drop-shadow(0px 1px 2px rgba(0, 0, 0, 0.3));\n",
              "      fill: #FFFFFF;\n",
              "    }\n",
              "  </style>\n",
              "\n",
              "    <script>\n",
              "      const buttonEl =\n",
              "        document.querySelector('#df-985d3cfe-9f71-46c7-9db3-835cce4ed17f button.colab-df-convert');\n",
              "      buttonEl.style.display =\n",
              "        google.colab.kernel.accessAllowed ? 'block' : 'none';\n",
              "\n",
              "      async function convertToInteractive(key) {\n",
              "        const element = document.querySelector('#df-985d3cfe-9f71-46c7-9db3-835cce4ed17f');\n",
              "        const dataTable =\n",
              "          await google.colab.kernel.invokeFunction('convertToInteractive',\n",
              "                                                    [key], {});\n",
              "        if (!dataTable) return;\n",
              "\n",
              "        const docLinkHtml = 'Like what you see? Visit the ' +\n",
              "          '<a target=\"_blank\" href=https://colab.research.google.com/notebooks/data_table.ipynb>data table notebook</a>'\n",
              "          + ' to learn more about interactive tables.';\n",
              "        element.innerHTML = '';\n",
              "        dataTable['output_type'] = 'display_data';\n",
              "        await google.colab.output.renderOutput(dataTable, element);\n",
              "        const docLink = document.createElement('div');\n",
              "        docLink.innerHTML = docLinkHtml;\n",
              "        element.appendChild(docLink);\n",
              "      }\n",
              "    </script>\n",
              "  </div>\n",
              "\n",
              "\n",
              "<div id=\"df-1b1ee27f-93fe-43a1-bf92-62ef30b7d4a5\">\n",
              "  <button class=\"colab-df-quickchart\" onclick=\"quickchart('df-1b1ee27f-93fe-43a1-bf92-62ef30b7d4a5')\"\n",
              "            title=\"Suggest charts\"\n",
              "            style=\"display:none;\">\n",
              "\n",
              "<svg xmlns=\"http://www.w3.org/2000/svg\" height=\"24px\"viewBox=\"0 0 24 24\"\n",
              "     width=\"24px\">\n",
              "    <g>\n",
              "        <path d=\"M19 3H5c-1.1 0-2 .9-2 2v14c0 1.1.9 2 2 2h14c1.1 0 2-.9 2-2V5c0-1.1-.9-2-2-2zM9 17H7v-7h2v7zm4 0h-2V7h2v10zm4 0h-2v-4h2v4z\"/>\n",
              "    </g>\n",
              "</svg>\n",
              "  </button>\n",
              "\n",
              "<style>\n",
              "  .colab-df-quickchart {\n",
              "      --bg-color: #E8F0FE;\n",
              "      --fill-color: #1967D2;\n",
              "      --hover-bg-color: #E2EBFA;\n",
              "      --hover-fill-color: #174EA6;\n",
              "      --disabled-fill-color: #AAA;\n",
              "      --disabled-bg-color: #DDD;\n",
              "  }\n",
              "\n",
              "  [theme=dark] .colab-df-quickchart {\n",
              "      --bg-color: #3B4455;\n",
              "      --fill-color: #D2E3FC;\n",
              "      --hover-bg-color: #434B5C;\n",
              "      --hover-fill-color: #FFFFFF;\n",
              "      --disabled-bg-color: #3B4455;\n",
              "      --disabled-fill-color: #666;\n",
              "  }\n",
              "\n",
              "  .colab-df-quickchart {\n",
              "    background-color: var(--bg-color);\n",
              "    border: none;\n",
              "    border-radius: 50%;\n",
              "    cursor: pointer;\n",
              "    display: none;\n",
              "    fill: var(--fill-color);\n",
              "    height: 32px;\n",
              "    padding: 0;\n",
              "    width: 32px;\n",
              "  }\n",
              "\n",
              "  .colab-df-quickchart:hover {\n",
              "    background-color: var(--hover-bg-color);\n",
              "    box-shadow: 0 1px 2px rgba(60, 64, 67, 0.3), 0 1px 3px 1px rgba(60, 64, 67, 0.15);\n",
              "    fill: var(--button-hover-fill-color);\n",
              "  }\n",
              "\n",
              "  .colab-df-quickchart-complete:disabled,\n",
              "  .colab-df-quickchart-complete:disabled:hover {\n",
              "    background-color: var(--disabled-bg-color);\n",
              "    fill: var(--disabled-fill-color);\n",
              "    box-shadow: none;\n",
              "  }\n",
              "\n",
              "  .colab-df-spinner {\n",
              "    border: 2px solid var(--fill-color);\n",
              "    border-color: transparent;\n",
              "    border-bottom-color: var(--fill-color);\n",
              "    animation:\n",
              "      spin 1s steps(1) infinite;\n",
              "  }\n",
              "\n",
              "  @keyframes spin {\n",
              "    0% {\n",
              "      border-color: transparent;\n",
              "      border-bottom-color: var(--fill-color);\n",
              "      border-left-color: var(--fill-color);\n",
              "    }\n",
              "    20% {\n",
              "      border-color: transparent;\n",
              "      border-left-color: var(--fill-color);\n",
              "      border-top-color: var(--fill-color);\n",
              "    }\n",
              "    30% {\n",
              "      border-color: transparent;\n",
              "      border-left-color: var(--fill-color);\n",
              "      border-top-color: var(--fill-color);\n",
              "      border-right-color: var(--fill-color);\n",
              "    }\n",
              "    40% {\n",
              "      border-color: transparent;\n",
              "      border-right-color: var(--fill-color);\n",
              "      border-top-color: var(--fill-color);\n",
              "    }\n",
              "    60% {\n",
              "      border-color: transparent;\n",
              "      border-right-color: var(--fill-color);\n",
              "    }\n",
              "    80% {\n",
              "      border-color: transparent;\n",
              "      border-right-color: var(--fill-color);\n",
              "      border-bottom-color: var(--fill-color);\n",
              "    }\n",
              "    90% {\n",
              "      border-color: transparent;\n",
              "      border-bottom-color: var(--fill-color);\n",
              "    }\n",
              "  }\n",
              "</style>\n",
              "\n",
              "  <script>\n",
              "    async function quickchart(key) {\n",
              "      const quickchartButtonEl =\n",
              "        document.querySelector('#' + key + ' button');\n",
              "      quickchartButtonEl.disabled = true;  // To prevent multiple clicks.\n",
              "      quickchartButtonEl.classList.add('colab-df-spinner');\n",
              "      try {\n",
              "        const charts = await google.colab.kernel.invokeFunction(\n",
              "            'suggestCharts', [key], {});\n",
              "      } catch (error) {\n",
              "        console.error('Error during call to suggestCharts:', error);\n",
              "      }\n",
              "      quickchartButtonEl.classList.remove('colab-df-spinner');\n",
              "      quickchartButtonEl.classList.add('colab-df-quickchart-complete');\n",
              "    }\n",
              "    (() => {\n",
              "      let quickchartButtonEl =\n",
              "        document.querySelector('#df-1b1ee27f-93fe-43a1-bf92-62ef30b7d4a5 button');\n",
              "      quickchartButtonEl.style.display =\n",
              "        google.colab.kernel.accessAllowed ? 'block' : 'none';\n",
              "    })();\n",
              "  </script>\n",
              "</div>\n",
              "\n",
              "    </div>\n",
              "  </div>\n"
            ],
            "application/vnd.google.colaboratory.intrinsic+json": {
              "type": "dataframe",
              "variable_name": "planilha_mc_corrigida",
              "summary": "{\n  \"name\": \"planilha_mc_corrigida\",\n  \"rows\": 47823,\n  \"fields\": [\n    {\n      \"column\": \"Regi\\u00e3o Pa\\u00eds\",\n      \"properties\": {\n        \"dtype\": \"category\",\n        \"num_unique_values\": 5,\n        \"samples\": [\n          \"Sudeste\",\n          \"Centro Oeste\",\n          \"Sul\"\n        ],\n        \"semantic_type\": \"\",\n        \"description\": \"\"\n      }\n    },\n    {\n      \"column\": \"Estado\",\n      \"properties\": {\n        \"dtype\": \"category\",\n        \"num_unique_values\": 25,\n        \"samples\": [\n          \"Par\\u00e1\",\n          \"Distrito Federal\",\n          \"Piau\\u00ed\"\n        ],\n        \"semantic_type\": \"\",\n        \"description\": \"\"\n      }\n    },\n    {\n      \"column\": \"Data\",\n      \"properties\": {\n        \"dtype\": \"date\",\n        \"min\": \"2023-09-01 00:00:00\",\n        \"max\": \"2024-05-01 00:00:00\",\n        \"num_unique_values\": 244,\n        \"samples\": [\n          \"2023-12-15 00:00:00\",\n          \"2023-12-31 00:00:00\",\n          \"2024-01-18 00:00:00\"\n        ],\n        \"semantic_type\": \"\",\n        \"description\": \"\"\n      }\n    },\n    {\n      \"column\": \"FormaPagto\",\n      \"properties\": {\n        \"dtype\": \"category\",\n        \"num_unique_values\": 5,\n        \"samples\": [\n          \"Boleto Banc\\u00e1rio\",\n          \"Pix\",\n          \"Dinheiro\"\n        ],\n        \"semantic_type\": \"\",\n        \"description\": \"\"\n      }\n    },\n    {\n      \"column\": \"Sexo Informado Cliente\",\n      \"properties\": {\n        \"dtype\": \"category\",\n        \"num_unique_values\": 3,\n        \"samples\": [\n          \"F\",\n          \"M\",\n          \"N\\u00e3o informado\"\n        ],\n        \"semantic_type\": \"\",\n        \"description\": \"\"\n      }\n    },\n    {\n      \"column\": \"Idade\",\n      \"properties\": {\n        \"dtype\": \"number\",\n        \"std\": 13,\n        \"min\": 0,\n        \"max\": 87,\n        \"num_unique_values\": 59,\n        \"samples\": [\n          22,\n          18,\n          47\n        ],\n        \"semantic_type\": \"\",\n        \"description\": \"\"\n      }\n    },\n    {\n      \"column\": \"valor ticket m\\u00e9dio\",\n      \"properties\": {\n        \"dtype\": \"number\",\n        \"std\": 166,\n        \"min\": -9876,\n        \"max\": 690,\n        \"num_unique_values\": 689,\n        \"samples\": [\n          329,\n          625,\n          556\n        ],\n        \"semantic_type\": \"\",\n        \"description\": \"\"\n      }\n    },\n    {\n      \"column\": \"numero pedido\",\n      \"properties\": {\n        \"dtype\": \"number\",\n        \"std\": 969981,\n        \"min\": 35245398,\n        \"max\": 38612234,\n        \"num_unique_values\": 47450,\n        \"samples\": [\n          37436943,\n          36899048,\n          36320781\n        ],\n        \"semantic_type\": \"\",\n        \"description\": \"\"\n      }\n    }\n  ]\n}"
            }
          },
          "metadata": {},
          "execution_count": 17
        }
      ]
    },
    {
      "cell_type": "markdown",
      "source": [
        "# Resumindo até aqui:\n",
        "\n",
        "\n",
        "*   Encontrei valores missing? não, já que todos os campos estão preechidos. Porém, não significa que temos dados corretos.\n",
        "*   Encontrei valores outliers? Sim, pela necessidade passada pela gerencia da melhores compras, foi designado para analisar a coluna idade. Podemos observar que ao realizar a analise estatistica pelo metodo de interquartil, indentificamos o número de 14 outliers.\n",
        "\n",
        "\n",
        "*   Por isso, realizei a filtragem de idade entre 18 a 90 anos. Para obtermos uma segunda informação das possibilidades e confirmar valores mais reais. Obtivemos 14 dados dentre desse conjunto de dados que estão fora desse intervalo de idade.\n",
        "\n",
        "\n",
        "\n"
      ],
      "metadata": {
        "id": "pfYGTmO41Ia4"
      }
    },
    {
      "cell_type": "markdown",
      "source": [
        "# Abaixo, iremos observar se os outliers idade, influenciam de maneira direta no valores do ticket médio"
      ],
      "metadata": {
        "id": "zf-l5gDZ8Z6F"
      }
    },
    {
      "cell_type": "code",
      "source": [
        "# Excluir as linhas com outliers na coluna 'Idade'\n",
        "dados_sem_outliers_idade = planilha_mc_corrigida[(planilha_mc_corrigida['Idade'] >= limite_inferior) & (planilha_mc_corrigida['Idade'] <= limite_superior)]\n",
        "\n",
        "# Exibir o DataFrame resultante\n",
        "print(\"Dados sem outliers na coluna 'Idade':\")\n",
        "print(dados_sem_outliers_idade)\n",
        "\n",
        "# verificar quantas linhas foram removidas\n",
        "linhas_removidas = planilha_mc_corrigida.shape[0] - dados_sem_outliers_idade.shape[0]\n",
        "print(f\"Número de linhas removidas: {linhas_removidas}\")\n"
      ],
      "metadata": {
        "colab": {
          "base_uri": "https://localhost:8080/"
        },
        "id": "AKW-35c5-ei7",
        "outputId": "42469815-e639-4648-f087-149ceeb73c83"
      },
      "execution_count": 18,
      "outputs": [
        {
          "output_type": "stream",
          "name": "stdout",
          "text": [
            "Dados sem outliers na coluna 'Idade':\n",
            "      Região País           Estado       Data       FormaPagto  \\\n",
            "0        Nordeste            Piauí 2023-11-17   Cartão Crédito   \n",
            "1         Sudeste        São Paulo 2023-10-13  Boleto Bancário   \n",
            "2         Sudeste     Minas Gerais 2023-12-24         Dinheiro   \n",
            "3         Sudeste   Espírito Santo 2023-12-19         Dinheiro   \n",
            "4             Sul           Paraná 2023-12-05    Cartão Débito   \n",
            "...           ...              ...        ...              ...   \n",
            "47830     Sudeste        São Paulo 2024-02-29              Pix   \n",
            "47831     Sudeste     Minas Gerais 2024-03-23         Dinheiro   \n",
            "47832     Sudeste   Rio de Janeiro 2024-01-11    Cartão Débito   \n",
            "47833     Sudeste   Espírito Santo 2024-01-25    Cartão Débito   \n",
            "47834         Sul  Santa  Catarina 2024-02-10              Pix   \n",
            "\n",
            "      Sexo Informado Cliente  Idade  valor ticket médio  numero pedido  \n",
            "0                          F     22                 102       37380646  \n",
            "1                          M     21                  32       35870530  \n",
            "2                          M     22                 101       38158515  \n",
            "3                          F     20                  70       36341482  \n",
            "4                          M     21                  67       38416338  \n",
            "...                      ...    ...                 ...            ...  \n",
            "47830                      M     58                 178       38547192  \n",
            "47831                      M     47                 490       38286005  \n",
            "47832                      F     52                 690       37717645  \n",
            "47833                      M     34                 188       35803326  \n",
            "47834                      M     31                 193       35618300  \n",
            "\n",
            "[47823 rows x 8 columns]\n",
            "Número de linhas removidas: 0\n"
          ]
        }
      ]
    },
    {
      "cell_type": "code",
      "source": [
        "#utilizando o SNS (seaborn) apresentamos a frequencia da idade na planilha\n",
        "\n",
        "sns.histplot(planilha_mc_corrigida['Idade'], bins=20, kde=True)\n",
        "plt.title('Distribuição da Idade')\n",
        "plt.xlabel('Idade')\n",
        "plt.ylabel('Frequência')\n",
        "plt.show()"
      ],
      "metadata": {
        "colab": {
          "base_uri": "https://localhost:8080/",
          "height": 472
        },
        "id": "v3BVgXrMGaX-",
        "outputId": "b44a26d4-4d78-4a28-8f93-5a394dd267c3"
      },
      "execution_count": 46,
      "outputs": [
        {
          "output_type": "display_data",
          "data": {
            "text/plain": [
              "<Figure size 640x480 with 1 Axes>"
            ],
            "image/png": "[encoded data removed]"
          },
          "metadata": {}
        }
      ]
    },
    {
      "cell_type": "markdown",
      "source": [
        "# Acima realizei o tratamento de dados referente a coluna 'idade', retirando os valores outliers, assim como foi definido e solicitado pela gerencia da melhores compras.\n",
        "# Para verificar de forma intuitiva, novamente, utilizo grafico para analisar os resultados da exclusão dos outliers da coluna 'idade'."
      ],
      "metadata": {
        "id": "QAqjNa0fa07N"
      }
    },
    {
      "cell_type": "code",
      "source": [
        "# Calculando o ticket médio considerando todos os dados\n",
        "ticket_medio_total = planilha_mc['valor ticket médio'].mean()\n",
        "\n",
        "# Excluindo os outliers\n",
        "# Criando outra variavel para identificar e utilizar para as demais analises (chamada dados_sem_outliers_idade)\n",
        "\n",
        "dados_sem_outliers_idade = planilha_mc_corrigida[(planilha_mc_corrigida['Idade'] >= limite_inferior) & (planilha_mc_corrigida['Idade'] <= limite_superior)]\n",
        "ticket_medio_sem_outliers_idade = dados_sem_outliers_idade['valor ticket médio'].mean()\n",
        "\n",
        "# Exibindo os resultados\n",
        "print(f\"Ticket médio de vendas considerando todos os dados: {ticket_medio_total}\")\n",
        "print(f\"Ticket médio de vendas excluindo os outliers de idade: {ticket_medio_sem_outliers_idade}\")\n",
        "\n",
        "# Realizando o teste t\n",
        "t_stat, p_value = stats.ttest_ind(planilha_mc['valor ticket médio'], dados_sem_outliers_idade['valor ticket médio'])\n",
        "\n",
        "print(f\"T-statistic: {t_stat}\")\n",
        "print(f\"P-value: {p_value}\")\n",
        "\n",
        "# Interpretando o p-value\n",
        "alpha = 0.05\n",
        "if p_value < alpha:\n",
        "    print(\"A diferença entre as médias é estatisticamente significativa.\")\n",
        "else:\n",
        "    print(\"A diferença entre as médias não é estatisticamente significativa.\")"
      ],
      "metadata": {
        "colab": {
          "base_uri": "https://localhost:8080/"
        },
        "id": "10FYuaqQ5aWF",
        "outputId": "6396372b-d468-4607-fd9e-d1de28849968"
      },
      "execution_count": 20,
      "outputs": [
        {
          "output_type": "stream",
          "name": "stdout",
          "text": [
            "Ticket médio de vendas considerando todos os dados: 236.4011288805268\n",
            "Ticket médio de vendas excluindo os outliers de idade: 236.5264203416766\n",
            "T-statistic: -0.11657889288434602\n",
            "P-value: 0.9071940094307267\n",
            "A diferença entre as médias não é estatisticamente significativa.\n"
          ]
        }
      ]
    },
    {
      "cell_type": "markdown",
      "source": [
        "# Dando continuidade nas analises - Ticket Médio"
      ],
      "metadata": {
        "id": "J8rKtp6LLTLs"
      }
    },
    {
      "cell_type": "code",
      "source": [
        "# Verificando valores negativos ou zero na coluna da planilha de clientes 'valor ticket médio'\n",
        "# nomeando a variavel como dados_inco\n",
        "dados_inconsistentes = planilha_mc_corrigida[planilha_mc_corrigida['valor ticket médio'] <= 0]\n",
        "print(\"Dados inconsistentes (valor ticket médio <= 0):\")\n",
        "print(dados_inconsistentes)"
      ],
      "metadata": {
        "colab": {
          "base_uri": "https://localhost:8080/"
        },
        "id": "ECcv0tI_K2T0",
        "outputId": "8d04ecb9-2b88-4941-abf0-bd1e9768ae21"
      },
      "execution_count": 21,
      "outputs": [
        {
          "output_type": "stream",
          "name": "stdout",
          "text": [
            "Dados inconsistentes (valor ticket médio <= 0):\n",
            "        Região País             Estado       Data       FormaPagto  \\\n",
            "740           Norte          Tocantins 2023-11-23   Cartão Crédito   \n",
            "949         Sudeste     Espírito Santo 2023-10-23  Boleto Bancário   \n",
            "1157       Nordeste         Pernambuco 2023-11-23   Cartão Crédito   \n",
            "1263          Norte              Amapá 2023-10-10  Boleto Bancário   \n",
            "1367          Norte           Amazonas 2023-11-21  Boleto Bancário   \n",
            "1393   Centro Oeste        Mato Grosso 2023-12-04   Cartão Crédito   \n",
            "1419   Centro Oeste   Distrito Federal 2023-12-29         Dinheiro   \n",
            "1524       Nordeste              Piauí 2023-12-30              Pix   \n",
            "1602            Sul  Rio Grande do Sul 2023-11-11   Cartão Crédito   \n",
            "1705   Centro Oeste   Distrito Federal 2023-12-20  Boleto Bancário   \n",
            "1809            Sul             Paraná 2023-12-08         Dinheiro   \n",
            "1939          Norte           Rondônia 2023-10-20  Boleto Bancário   \n",
            "2069       Nordeste              Bahia 2023-12-02         Dinheiro   \n",
            "2199          Norte               Acre 2023-12-26  Boleto Bancário   \n",
            "2328       Nordeste              Ceará 2023-10-05         Dinheiro   \n",
            "2432        Sudeste     Espírito Santo 2023-10-14  Boleto Bancário   \n",
            "2562          Norte           Rondônia 2023-10-12  Boleto Bancário   \n",
            "9992          Norte               Pará 2023-10-19   Cartão Crédito   \n",
            "10140         Norte              Amapá 2023-12-23   Cartão Crédito   \n",
            "\n",
            "      Sexo Informado Cliente  Idade  valor ticket médio  numero pedido  \n",
            "740                        F     21                -987       37123376  \n",
            "949                        M     30                -431       35980697  \n",
            "1157                       M     38                -652       38285297  \n",
            "1263                       M     22                   0       37553325  \n",
            "1367                       M     22                   0       37541837  \n",
            "1393                       F     22                   0       36544534  \n",
            "1419                       F     65                   0       37666424  \n",
            "1524                       F     21                 -11       36082566  \n",
            "1602                       M     21                 -22       35878394  \n",
            "1705                       F     21                 -56       36023344  \n",
            "1809                       F     69                 -98       37081557  \n",
            "1939                       F     21               -9876       36540701  \n",
            "2069                       M     21               -4433       37252729  \n",
            "2199           Não informado     21                 -22       38386924  \n",
            "2328                       M     21                 -55       35788318  \n",
            "2432                       M     21                 -66       37338406  \n",
            "2562                       F     21                 -32       36658153  \n",
            "9992                       F      0                -133       36030344  \n",
            "10140                      F      0                 -98       35382522  \n"
          ]
        }
      ]
    },
    {
      "cell_type": "code",
      "source": [
        "# Histograma dos dados inconsistentes\n",
        "plt.figure(figsize=(8, 6))\n",
        "plt.hist(dados_inconsistentes['valor ticket médio'], bins=20, color='salmon', edgecolor='black')\n",
        "plt.title('Distribuição dos Dados Inconsistentes em \"valor ticket médio\"')\n",
        "plt.xlabel('Valor Ticket Médio')\n",
        "plt.ylabel('Frequência')\n",
        "plt.grid(axis='y', alpha=0.75)\n",
        "plt.show()"
      ],
      "metadata": {
        "colab": {
          "base_uri": "https://localhost:8080/",
          "height": 565
        },
        "id": "4EvRT_msT15r",
        "outputId": "ef37fe1e-74ec-4155-ebc5-d6e3fd39e10a"
      },
      "execution_count": 22,
      "outputs": [
        {
          "output_type": "display_data",
          "data": {
            "text/plain": [
              "<Figure size 800x600 with 1 Axes>"
            ],
            "image/png": "[encoded data removed]"
          },
          "metadata": {}
        }
      ]
    },
    {
      "cell_type": "markdown",
      "source": [
        "Acima podemos observar de forma mais clara a frequencia e os dados de ticket médio estão fora da normalidade.\n",
        "Frizando que é somente de dados igual ou menor que 0.\n"
      ],
      "metadata": {
        "id": "AHH5dUBVfmBR"
      }
    },
    {
      "cell_type": "code",
      "source": [
        "#consultando as Valor Ticket Médio maxima e minimas registradas na planilha:\n",
        "\n",
        "ticket_max = planilha_mc['valor ticket médio'].max()\n",
        "ticket_min = planilha_mc['valor ticket médio'].min()\n",
        "print(f\"A ticket máxima é: {ticket_max}\")\n",
        "print(f\"A ticket mínima é: {ticket_min}\")"
      ],
      "metadata": {
        "colab": {
          "base_uri": "https://localhost:8080/"
        },
        "id": "SLU4f_iflMOX",
        "outputId": "64cae8de-5191-48cb-b68f-6ef825bc4867"
      },
      "execution_count": 23,
      "outputs": [
        {
          "output_type": "stream",
          "name": "stdout",
          "text": [
            "A ticket máxima é: 690\n",
            "A ticket mínima é: -9876\n"
          ]
        }
      ]
    },
    {
      "cell_type": "code",
      "source": [
        "# Excluindo valores negativos e zero da planilha\n",
        "# Dando um novo nome a planilha para que os dados novos sejam analisado de forma organizada (planilha_mc_corrigida)\n",
        "\n",
        "planilha_mc_corrigida = planilha_mc_corrigida[planilha_mc_corrigida['valor ticket médio'] > 0]\n",
        "\n",
        "# Calcular Q1, Q3 e IQR para 'valor ticket médio'\n",
        "Q1 = planilha_mc_corrigida['valor ticket médio'].quantile(0.25)\n",
        "Q3 = planilha_mc_corrigida['valor ticket médio'].quantile(0.75)\n",
        "IQR = Q3 - Q1\n",
        "\n",
        "# Definindo limites inferior e superior para identificar outliers\n",
        "limite_inferior = Q1 - 1.5 * IQR\n",
        "limite_superior = Q3 + 1.5 * IQR\n",
        "\n",
        "# Identificando outliers\n",
        "outliers_ticket_medio = planilha_mc_corrigida[(planilha_mc_corrigida['valor ticket médio'] < limite_inferior) | (planilha_mc_corrigida['valor ticket médio'] > limite_superior)]\n",
        "print(\"Outliers no 'valor ticket médio':\")\n",
        "print(outliers_ticket_medio)\n",
        "\n",
        "# Excluindo os outliers\n",
        "dados_sem_outliers_ticket_medio = planilha_mc_corrigida[(planilha_mc_corrigida['valor ticket médio'] >= limite_inferior) & (planilha_mc_corrigida['valor ticket médio'] <= limite_superior)]\n",
        "\n",
        "# Exibindo o DataFrame resultante\n",
        "print(\"Dados corrigidos e prontos para análise:\")\n",
        "print(dados_sem_outliers_ticket_medio)\n",
        "\n",
        "# verificando quantas linhas foram removidas\n",
        "linhas_removidas = planilha_mc.shape[0] - dados_sem_outliers_ticket_medio.shape[0]\n",
        "print(f\"Número de linhas removidas: {linhas_removidas}\")\n"
      ],
      "metadata": {
        "colab": {
          "base_uri": "https://localhost:8080/"
        },
        "id": "3SCev2EALo60",
        "outputId": "03b3ab3e-c19a-4fc7-82e7-173e1dd2379d"
      },
      "execution_count": 24,
      "outputs": [
        {
          "output_type": "stream",
          "name": "stdout",
          "text": [
            "Outliers no 'valor ticket médio':\n",
            "        Região País           Estado       Data       FormaPagto  \\\n",
            "1072          Norte             Acre 2023-11-13         Dinheiro   \n",
            "1208        Sudeste   Rio de Janeiro 2023-11-26              Pix   \n",
            "1357        Sudeste   Espírito Santo 2023-11-04   Cartão Crédito   \n",
            "3225        Sudeste     Minas Gerais 2023-11-22   Cartão Crédito   \n",
            "4921       Nordeste       Pernambuco 2023-11-08   Cartão Crédito   \n",
            "5105   Centro Oeste            Goiás 2023-12-12              Pix   \n",
            "5482          Norte            Amapá 2023-11-10              Pix   \n",
            "6388        Sudeste     Minas Gerais 2023-11-15         Dinheiro   \n",
            "7929       Nordeste          Paraíba 2023-10-21  Boleto Bancário   \n",
            "8471          Norte        Tocantins 2023-12-09         Dinheiro   \n",
            "8581        Sudeste        São Paulo 2023-10-29   Cartão Crédito   \n",
            "10374         Norte             Pará 2023-11-19    Cartão Débito   \n",
            "10636         Norte             Acre 2023-12-27  Boleto Bancário   \n",
            "13093       Sudeste        São Paulo 2023-10-21  Boleto Bancário   \n",
            "14220         Norte             Pará 2023-09-03  Boleto Bancário   \n",
            "15433           Sul  Santa  Catarina 2023-10-03  Boleto Bancário   \n",
            "16151       Sudeste   Espírito Santo 2023-11-15  Boleto Bancário   \n",
            "19011         Norte        Tocantins 2023-12-27              Pix   \n",
            "20073  Centro Oeste      Mato Grosso 2023-10-21    Cartão Débito   \n",
            "21046      Nordeste          Alagoas 2023-11-03   Cartão Crédito   \n",
            "22590       Sudeste        São Paulo 2023-10-10              Pix   \n",
            "24049       Sudeste   Espírito Santo 2023-10-19   Cartão Crédito   \n",
            "25193         Norte             Acre 2023-12-04              Pix   \n",
            "25244         Norte             Pará 2023-10-25  Boleto Bancário   \n",
            "25826       Sudeste   Espírito Santo 2023-10-26    Cartão Débito   \n",
            "26922           Sul  Santa  Catarina 2023-11-26   Cartão Crédito   \n",
            "28331      Nordeste       Pernambuco 2023-10-01    Cartão Débito   \n",
            "28464  Centro Oeste      Mato Grosso 2023-12-02    Cartão Débito   \n",
            "33012       Sudeste     Minas Gerais 2023-11-21  Boleto Bancário   \n",
            "33367      Nordeste            Ceará 2023-11-03         Dinheiro   \n",
            "33866         Norte             Acre 2023-12-12              Pix   \n",
            "34879           Sul  Santa  Catarina 2023-10-11              Pix   \n",
            "35170      Nordeste            Piauí 2023-12-28    Cartão Débito   \n",
            "35509       Sudeste     Minas Gerais 2023-10-03    Cartão Débito   \n",
            "36830         Norte          Roraima 2023-12-27    Cartão Débito   \n",
            "37011      Nordeste          Alagoas 2023-12-31         Dinheiro   \n",
            "38011      Nordeste          Alagoas 2023-12-11         Dinheiro   \n",
            "39987         Norte         Amazonas 2023-12-25    Cartão Débito   \n",
            "40673       Sudeste        São Paulo 2023-12-15  Boleto Bancário   \n",
            "42242  Centro Oeste            Goiás 2023-10-30   Cartão Crédito   \n",
            "44010         Norte             Acre 2024-03-02              Pix   \n",
            "44920         Norte             Acre 2024-04-02         Dinheiro   \n",
            "45700         Norte        Tocantins 2024-04-07   Cartão Crédito   \n",
            "46196      Nordeste          Paraíba 2024-03-28   Cartão Crédito   \n",
            "46459      Nordeste            Ceará 2024-01-07         Dinheiro   \n",
            "46979       Sudeste   Espírito Santo 2024-02-24              Pix   \n",
            "47703           Sul           Paraná 2024-01-24  Boleto Bancário   \n",
            "47832       Sudeste   Rio de Janeiro 2024-01-11    Cartão Débito   \n",
            "\n",
            "      Sexo Informado Cliente  Idade  valor ticket médio  numero pedido  \n",
            "1072                       F     46                 690       36054070  \n",
            "1208                       M     47                 690       37026529  \n",
            "1357                       F     53                 690       37896741  \n",
            "3225                       F     47                 690       35254398  \n",
            "4921                       M     54                 690       37255518  \n",
            "5105                       F     51                 689       35849190  \n",
            "5482                       F     54                 690       37621538  \n",
            "6388                       F     47                 690       38285109  \n",
            "7929                       F     50                 689       35559099  \n",
            "8471                       F     47                 689       36620983  \n",
            "8581                       M     51                 690       36727089  \n",
            "10374                      F     47                 690       35582624  \n",
            "10636                      F     48                 690       37260601  \n",
            "13093                      M     47                 690       36339191  \n",
            "14220                      M     53                 690       35423627  \n",
            "15433                      F     51                 690       36726680  \n",
            "16151                      F     45                 690       37017094  \n",
            "19011                      F     51                 690       36798216  \n",
            "20073                      M     46                 689       36130627  \n",
            "21046                      F     47                 690       37955593  \n",
            "22590                      F     53                 690       37753835  \n",
            "24049                      M     54                 689       38225319  \n",
            "25193                      M     51                 689       35779207  \n",
            "25244                      F     50                 690       35958517  \n",
            "25826                      F     47                 689       37388735  \n",
            "26922                      F     45                 690       36816225  \n",
            "28331                      M     48                 689       36970187  \n",
            "28464                      M     46                 689       38607108  \n",
            "33012                      F     47                 689       38249359  \n",
            "33367                      F     51                 690       37228043  \n",
            "33866                      M     47                 690       36030262  \n",
            "34879                      M     52                 690       36986943  \n",
            "35170                      F     50                 689       37359628  \n",
            "35509                      F     47                 690       37187006  \n",
            "36830                      M     48                 689       35251379  \n",
            "37011                      F     48                 690       36832827  \n",
            "38011                      F     51                 689       36513825  \n",
            "39987                      M     47                 689       35579905  \n",
            "40673                      F     46                 690       35926386  \n",
            "42242                      F     45                 690       37945001  \n",
            "44010                      M     51                 690       38458435  \n",
            "44920                      F     47                 689       35569141  \n",
            "45700                      M     50                 690       37582086  \n",
            "46196                      F     54                 689       38199847  \n",
            "46459                      F     48                 689       36215579  \n",
            "46979                      F     47                 690       36772436  \n",
            "47703                      F     53                 690       36144750  \n",
            "47832                      F     52                 690       37717645  \n",
            "Dados corrigidos e prontos para análise:\n",
            "      Região País           Estado       Data       FormaPagto  \\\n",
            "0        Nordeste            Piauí 2023-11-17   Cartão Crédito   \n",
            "1         Sudeste        São Paulo 2023-10-13  Boleto Bancário   \n",
            "2         Sudeste     Minas Gerais 2023-12-24         Dinheiro   \n",
            "3         Sudeste   Espírito Santo 2023-12-19         Dinheiro   \n",
            "4             Sul           Paraná 2023-12-05    Cartão Débito   \n",
            "...           ...              ...        ...              ...   \n",
            "47829    Nordeste            Piauí 2024-02-14    Cartão Débito   \n",
            "47830     Sudeste        São Paulo 2024-02-29              Pix   \n",
            "47831     Sudeste     Minas Gerais 2024-03-23         Dinheiro   \n",
            "47833     Sudeste   Espírito Santo 2024-01-25    Cartão Débito   \n",
            "47834         Sul  Santa  Catarina 2024-02-10              Pix   \n",
            "\n",
            "      Sexo Informado Cliente  Idade  valor ticket médio  numero pedido  \n",
            "0                          F     22                 102       37380646  \n",
            "1                          M     21                  32       35870530  \n",
            "2                          M     22                 101       38158515  \n",
            "3                          F     20                  70       36341482  \n",
            "4                          M     21                  67       38416338  \n",
            "...                      ...    ...                 ...            ...  \n",
            "47829                      F     28                 224       35868067  \n",
            "47830                      M     58                 178       38547192  \n",
            "47831                      M     47                 490       38286005  \n",
            "47833                      M     34                 188       35803326  \n",
            "47834                      M     31                 193       35618300  \n",
            "\n",
            "[47756 rows x 8 columns]\n",
            "Número de linhas removidas: 79\n"
          ]
        }
      ]
    },
    {
      "cell_type": "code",
      "source": [
        "# Histograma dos dados corrigidos\n",
        "\n",
        "sns.histplot(dados_sem_outliers_ticket_medio['valor ticket médio'], bins=20, kde=True)\n",
        "plt.title('Distribuição dos Dados Corrigidos em \"valor ticket médio\"')\n",
        "plt.xlabel('Valor Ticket Médio')\n",
        "plt.ylabel('Frequência')\n",
        "plt.show()"
      ],
      "metadata": {
        "colab": {
          "base_uri": "https://localhost:8080/",
          "height": 472
        },
        "id": "qBjoKADTJ5WV",
        "outputId": "ac5b5cdb-5697-42e4-d05f-75bb33b06958"
      },
      "execution_count": 47,
      "outputs": [
        {
          "output_type": "display_data",
          "data": {
            "text/plain": [
              "<Figure size 640x480 with 1 Axes>"
            ],
            "image/png": "[encoded data removed]"
          },
          "metadata": {}
        }
      ]
    },
    {
      "cell_type": "markdown",
      "source": [
        "Acima realizamos o tratamento dos dados da coluna ticket medio. De forma para ficar mais clara a visualização dos dados, utilizamos o grafico de barras."
      ],
      "metadata": {
        "id": "ERJQX2J4k6gY"
      }
    },
    {
      "cell_type": "code",
      "source": [
        "#consultando as Valor Ticket Médio maxima e minimas registradas na planilha com os dados corrigidos:\n",
        "\n",
        "ticket_max_corrigido = planilha_mc_corrigida['valor ticket médio'].max()\n",
        "ticket_min_corrigido = planilha_mc_corrigida['valor ticket médio'].min()\n",
        "print(f\"A ticket máxima é: {ticket_max_corrigido}\")\n",
        "print(f\"A ticket mínima é: {ticket_min_corrigido}\")"
      ],
      "metadata": {
        "colab": {
          "base_uri": "https://localhost:8080/"
        },
        "id": "1i4yiREykaPg",
        "outputId": "e5f77668-fae0-4318-b8f7-d93a646f2e65"
      },
      "execution_count": 26,
      "outputs": [
        {
          "output_type": "stream",
          "name": "stdout",
          "text": [
            "A ticket máxima é: 690\n",
            "A ticket mínima é: 15\n"
          ]
        }
      ]
    },
    {
      "cell_type": "code",
      "source": [
        "# Leitura da planilha_mc_corrigida\n",
        "# filtrando as 100 primeiras linhas\n",
        "\n",
        "planilha_mc_corrigida.head(100)"
      ],
      "metadata": {
        "colab": {
          "base_uri": "https://localhost:8080/",
          "height": 423
        },
        "id": "Ps_s4VqIMrhW",
        "outputId": "aaa1c49c-399b-42c9-cfd8-3e9959509be1"
      },
      "execution_count": 27,
      "outputs": [
        {
          "output_type": "execute_result",
          "data": {
            "text/plain": [
              "   Região País          Estado       Data       FormaPagto  \\\n",
              "0     Nordeste           Piauí 2023-11-17   Cartão Crédito   \n",
              "1      Sudeste       São Paulo 2023-10-13  Boleto Bancário   \n",
              "2      Sudeste    Minas Gerais 2023-12-24         Dinheiro   \n",
              "3      Sudeste  Espírito Santo 2023-12-19         Dinheiro   \n",
              "4          Sul          Paraná 2023-12-05    Cartão Débito   \n",
              "..         ...             ...        ...              ...   \n",
              "95       Norte            Pará 2023-12-05   Cartão Crédito   \n",
              "96       Norte        Rondônia 2023-12-31         Dinheiro   \n",
              "97       Norte       Tocantins 2023-12-30    Cartão Débito   \n",
              "98       Norte         Roraima 2023-10-17   Cartão Crédito   \n",
              "99       Norte        Amazonas 2023-12-31         Dinheiro   \n",
              "\n",
              "   Sexo Informado Cliente  Idade  valor ticket médio  numero pedido  \n",
              "0                       F     22                 102       37380646  \n",
              "1                       M     21                  32       35870530  \n",
              "2                       M     22                 101       38158515  \n",
              "3                       F     20                  70       36341482  \n",
              "4                       M     21                  67       38416338  \n",
              "..                    ...    ...                 ...            ...  \n",
              "95                      M     22                 107       37880642  \n",
              "96                      M     19                  80       36694384  \n",
              "97                      M     34                 202       37500751  \n",
              "98                      F     31                  94       36070951  \n",
              "99                      F     32                 250       38431048  \n",
              "\n",
              "[100 rows x 8 columns]"
            ],
            "text/html": [
              "\n",
              "  <div id=\"df-6f362331-4df4-414c-9755-44f70e78395e\" class=\"colab-df-container\">\n",
              "    <div>\n",
              "<style scoped>\n",
              "    .dataframe tbody tr th:only-of-type {\n",
              "        vertical-align: middle;\n",
              "    }\n",
              "\n",
              "    .dataframe tbody tr th {\n",
              "        vertical-align: top;\n",
              "    }\n",
              "\n",
              "    .dataframe thead th {\n",
              "        text-align: right;\n",
              "    }\n",
              "</style>\n",
              "<table border=\"1\" class=\"dataframe\">\n",
              "  <thead>\n",
              "    <tr style=\"text-align: right;\">\n",
              "      <th></th>\n",
              "      <th>Região País</th>\n",
              "      <th>Estado</th>\n",
              "      <th>Data</th>\n",
              "      <th>FormaPagto</th>\n",
              "      <th>Sexo Informado Cliente</th>\n",
              "      <th>Idade</th>\n",
              "      <th>valor ticket médio</th>\n",
              "      <th>numero pedido</th>\n",
              "    </tr>\n",
              "  </thead>\n",
              "  <tbody>\n",
              "    <tr>\n",
              "      <th>0</th>\n",
              "      <td>Nordeste</td>\n",
              "      <td>Piauí</td>\n",
              "      <td>2023-11-17</td>\n",
              "      <td>Cartão Crédito</td>\n",
              "      <td>F</td>\n",
              "      <td>22</td>\n",
              "      <td>102</td>\n",
              "      <td>37380646</td>\n",
              "    </tr>\n",
              "    <tr>\n",
              "      <th>1</th>\n",
              "      <td>Sudeste</td>\n",
              "      <td>São Paulo</td>\n",
              "      <td>2023-10-13</td>\n",
              "      <td>Boleto Bancário</td>\n",
              "      <td>M</td>\n",
              "      <td>21</td>\n",
              "      <td>32</td>\n",
              "      <td>35870530</td>\n",
              "    </tr>\n",
              "    <tr>\n",
              "      <th>2</th>\n",
              "      <td>Sudeste</td>\n",
              "      <td>Minas Gerais</td>\n",
              "      <td>2023-12-24</td>\n",
              "      <td>Dinheiro</td>\n",
              "      <td>M</td>\n",
              "      <td>22</td>\n",
              "      <td>101</td>\n",
              "      <td>38158515</td>\n",
              "    </tr>\n",
              "    <tr>\n",
              "      <th>3</th>\n",
              "      <td>Sudeste</td>\n",
              "      <td>Espírito Santo</td>\n",
              "      <td>2023-12-19</td>\n",
              "      <td>Dinheiro</td>\n",
              "      <td>F</td>\n",
              "      <td>20</td>\n",
              "      <td>70</td>\n",
              "      <td>36341482</td>\n",
              "    </tr>\n",
              "    <tr>\n",
              "      <th>4</th>\n",
              "      <td>Sul</td>\n",
              "      <td>Paraná</td>\n",
              "      <td>2023-12-05</td>\n",
              "      <td>Cartão Débito</td>\n",
              "      <td>M</td>\n",
              "      <td>21</td>\n",
              "      <td>67</td>\n",
              "      <td>38416338</td>\n",
              "    </tr>\n",
              "    <tr>\n",
              "      <th>...</th>\n",
              "      <td>...</td>\n",
              "      <td>...</td>\n",
              "      <td>...</td>\n",
              "      <td>...</td>\n",
              "      <td>...</td>\n",
              "      <td>...</td>\n",
              "      <td>...</td>\n",
              "      <td>...</td>\n",
              "    </tr>\n",
              "    <tr>\n",
              "      <th>95</th>\n",
              "      <td>Norte</td>\n",
              "      <td>Pará</td>\n",
              "      <td>2023-12-05</td>\n",
              "      <td>Cartão Crédito</td>\n",
              "      <td>M</td>\n",
              "      <td>22</td>\n",
              "      <td>107</td>\n",
              "      <td>37880642</td>\n",
              "    </tr>\n",
              "    <tr>\n",
              "      <th>96</th>\n",
              "      <td>Norte</td>\n",
              "      <td>Rondônia</td>\n",
              "      <td>2023-12-31</td>\n",
              "      <td>Dinheiro</td>\n",
              "      <td>M</td>\n",
              "      <td>19</td>\n",
              "      <td>80</td>\n",
              "      <td>36694384</td>\n",
              "    </tr>\n",
              "    <tr>\n",
              "      <th>97</th>\n",
              "      <td>Norte</td>\n",
              "      <td>Tocantins</td>\n",
              "      <td>2023-12-30</td>\n",
              "      <td>Cartão Débito</td>\n",
              "      <td>M</td>\n",
              "      <td>34</td>\n",
              "      <td>202</td>\n",
              "      <td>37500751</td>\n",
              "    </tr>\n",
              "    <tr>\n",
              "      <th>98</th>\n",
              "      <td>Norte</td>\n",
              "      <td>Roraima</td>\n",
              "      <td>2023-10-17</td>\n",
              "      <td>Cartão Crédito</td>\n",
              "      <td>F</td>\n",
              "      <td>31</td>\n",
              "      <td>94</td>\n",
              "      <td>36070951</td>\n",
              "    </tr>\n",
              "    <tr>\n",
              "      <th>99</th>\n",
              "      <td>Norte</td>\n",
              "      <td>Amazonas</td>\n",
              "      <td>2023-12-31</td>\n",
              "      <td>Dinheiro</td>\n",
              "      <td>F</td>\n",
              "      <td>32</td>\n",
              "      <td>250</td>\n",
              "      <td>38431048</td>\n",
              "    </tr>\n",
              "  </tbody>\n",
              "</table>\n",
              "<p>100 rows × 8 columns</p>\n",
              "</div>\n",
              "    <div class=\"colab-df-buttons\">\n",
              "\n",
              "  <div class=\"colab-df-container\">\n",
              "    <button class=\"colab-df-convert\" onclick=\"convertToInteractive('df-6f362331-4df4-414c-9755-44f70e78395e')\"\n",
              "            title=\"Convert this dataframe to an interactive table.\"\n",
              "            style=\"display:none;\">\n",
              "\n",
              "  <svg xmlns=\"http://www.w3.org/2000/svg\" height=\"24px\" viewBox=\"0 -960 960 960\">\n",
              "    <path d=\"M120-120v-720h720v720H120Zm60-500h600v-160H180v160Zm220 220h160v-160H400v160Zm0 220h160v-160H400v160ZM180-400h160v-160H180v160Zm440 0h160v-160H620v160ZM180-180h160v-160H180v160Zm440 0h160v-160H620v160Z\"/>\n",
              "  </svg>\n",
              "    </button>\n",
              "\n",
              "  <style>\n",
              "    .colab-df-container {\n",
              "      display:flex;\n",
              "      gap: 12px;\n",
              "    }\n",
              "\n",
              "    .colab-df-convert {\n",
              "      background-color: #E8F0FE;\n",
              "      border: none;\n",
              "      border-radius: 50%;\n",
              "      cursor: pointer;\n",
              "      display: none;\n",
              "      fill: #1967D2;\n",
              "      height: 32px;\n",
              "      padding: 0 0 0 0;\n",
              "      width: 32px;\n",
              "    }\n",
              "\n",
              "    .colab-df-convert:hover {\n",
              "      background-color: #E2EBFA;\n",
              "      box-shadow: 0px 1px 2px rgba(60, 64, 67, 0.3), 0px 1px 3px 1px rgba(60, 64, 67, 0.15);\n",
              "      fill: #174EA6;\n",
              "    }\n",
              "\n",
              "    .colab-df-buttons div {\n",
              "      margin-bottom: 4px;\n",
              "    }\n",
              "\n",
              "    [theme=dark] .colab-df-convert {\n",
              "      background-color: #3B4455;\n",
              "      fill: #D2E3FC;\n",
              "    }\n",
              "\n",
              "    [theme=dark] .colab-df-convert:hover {\n",
              "      background-color: #434B5C;\n",
              "      box-shadow: 0px 1px 3px 1px rgba(0, 0, 0, 0.15);\n",
              "      filter: drop-shadow(0px 1px 2px rgba(0, 0, 0, 0.3));\n",
              "      fill: #FFFFFF;\n",
              "    }\n",
              "  </style>\n",
              "\n",
              "    <script>\n",
              "      const buttonEl =\n",
              "        document.querySelector('#df-6f362331-4df4-414c-9755-44f70e78395e button.colab-df-convert');\n",
              "      buttonEl.style.display =\n",
              "        google.colab.kernel.accessAllowed ? 'block' : 'none';\n",
              "\n",
              "      async function convertToInteractive(key) {\n",
              "        const element = document.querySelector('#df-6f362331-4df4-414c-9755-44f70e78395e');\n",
              "        const dataTable =\n",
              "          await google.colab.kernel.invokeFunction('convertToInteractive',\n",
              "                                                    [key], {});\n",
              "        if (!dataTable) return;\n",
              "\n",
              "        const docLinkHtml = 'Like what you see? Visit the ' +\n",
              "          '<a target=\"_blank\" href=https://colab.research.google.com/notebooks/data_table.ipynb>data table notebook</a>'\n",
              "          + ' to learn more about interactive tables.';\n",
              "        element.innerHTML = '';\n",
              "        dataTable['output_type'] = 'display_data';\n",
              "        await google.colab.output.renderOutput(dataTable, element);\n",
              "        const docLink = document.createElement('div');\n",
              "        docLink.innerHTML = docLinkHtml;\n",
              "        element.appendChild(docLink);\n",
              "      }\n",
              "    </script>\n",
              "  </div>\n",
              "\n",
              "\n",
              "<div id=\"df-d9622b34-a159-4623-8a42-4dd89997b35a\">\n",
              "  <button class=\"colab-df-quickchart\" onclick=\"quickchart('df-d9622b34-a159-4623-8a42-4dd89997b35a')\"\n",
              "            title=\"Suggest charts\"\n",
              "            style=\"display:none;\">\n",
              "\n",
              "<svg xmlns=\"http://www.w3.org/2000/svg\" height=\"24px\"viewBox=\"0 0 24 24\"\n",
              "     width=\"24px\">\n",
              "    <g>\n",
              "        <path d=\"M19 3H5c-1.1 0-2 .9-2 2v14c0 1.1.9 2 2 2h14c1.1 0 2-.9 2-2V5c0-1.1-.9-2-2-2zM9 17H7v-7h2v7zm4 0h-2V7h2v10zm4 0h-2v-4h2v4z\"/>\n",
              "    </g>\n",
              "</svg>\n",
              "  </button>\n",
              "\n",
              "<style>\n",
              "  .colab-df-quickchart {\n",
              "      --bg-color: #E8F0FE;\n",
              "      --fill-color: #1967D2;\n",
              "      --hover-bg-color: #E2EBFA;\n",
              "      --hover-fill-color: #174EA6;\n",
              "      --disabled-fill-color: #AAA;\n",
              "      --disabled-bg-color: #DDD;\n",
              "  }\n",
              "\n",
              "  [theme=dark] .colab-df-quickchart {\n",
              "      --bg-color: #3B4455;\n",
              "      --fill-color: #D2E3FC;\n",
              "      --hover-bg-color: #434B5C;\n",
              "      --hover-fill-color: #FFFFFF;\n",
              "      --disabled-bg-color: #3B4455;\n",
              "      --disabled-fill-color: #666;\n",
              "  }\n",
              "\n",
              "  .colab-df-quickchart {\n",
              "    background-color: var(--bg-color);\n",
              "    border: none;\n",
              "    border-radius: 50%;\n",
              "    cursor: pointer;\n",
              "    display: none;\n",
              "    fill: var(--fill-color);\n",
              "    height: 32px;\n",
              "    padding: 0;\n",
              "    width: 32px;\n",
              "  }\n",
              "\n",
              "  .colab-df-quickchart:hover {\n",
              "    background-color: var(--hover-bg-color);\n",
              "    box-shadow: 0 1px 2px rgba(60, 64, 67, 0.3), 0 1px 3px 1px rgba(60, 64, 67, 0.15);\n",
              "    fill: var(--button-hover-fill-color);\n",
              "  }\n",
              "\n",
              "  .colab-df-quickchart-complete:disabled,\n",
              "  .colab-df-quickchart-complete:disabled:hover {\n",
              "    background-color: var(--disabled-bg-color);\n",
              "    fill: var(--disabled-fill-color);\n",
              "    box-shadow: none;\n",
              "  }\n",
              "\n",
              "  .colab-df-spinner {\n",
              "    border: 2px solid var(--fill-color);\n",
              "    border-color: transparent;\n",
              "    border-bottom-color: var(--fill-color);\n",
              "    animation:\n",
              "      spin 1s steps(1) infinite;\n",
              "  }\n",
              "\n",
              "  @keyframes spin {\n",
              "    0% {\n",
              "      border-color: transparent;\n",
              "      border-bottom-color: var(--fill-color);\n",
              "      border-left-color: var(--fill-color);\n",
              "    }\n",
              "    20% {\n",
              "      border-color: transparent;\n",
              "      border-left-color: var(--fill-color);\n",
              "      border-top-color: var(--fill-color);\n",
              "    }\n",
              "    30% {\n",
              "      border-color: transparent;\n",
              "      border-left-color: var(--fill-color);\n",
              "      border-top-color: var(--fill-color);\n",
              "      border-right-color: var(--fill-color);\n",
              "    }\n",
              "    40% {\n",
              "      border-color: transparent;\n",
              "      border-right-color: var(--fill-color);\n",
              "      border-top-color: var(--fill-color);\n",
              "    }\n",
              "    60% {\n",
              "      border-color: transparent;\n",
              "      border-right-color: var(--fill-color);\n",
              "    }\n",
              "    80% {\n",
              "      border-color: transparent;\n",
              "      border-right-color: var(--fill-color);\n",
              "      border-bottom-color: var(--fill-color);\n",
              "    }\n",
              "    90% {\n",
              "      border-color: transparent;\n",
              "      border-bottom-color: var(--fill-color);\n",
              "    }\n",
              "  }\n",
              "</style>\n",
              "\n",
              "  <script>\n",
              "    async function quickchart(key) {\n",
              "      const quickchartButtonEl =\n",
              "        document.querySelector('#' + key + ' button');\n",
              "      quickchartButtonEl.disabled = true;  // To prevent multiple clicks.\n",
              "      quickchartButtonEl.classList.add('colab-df-spinner');\n",
              "      try {\n",
              "        const charts = await google.colab.kernel.invokeFunction(\n",
              "            'suggestCharts', [key], {});\n",
              "      } catch (error) {\n",
              "        console.error('Error during call to suggestCharts:', error);\n",
              "      }\n",
              "      quickchartButtonEl.classList.remove('colab-df-spinner');\n",
              "      quickchartButtonEl.classList.add('colab-df-quickchart-complete');\n",
              "    }\n",
              "    (() => {\n",
              "      let quickchartButtonEl =\n",
              "        document.querySelector('#df-d9622b34-a159-4623-8a42-4dd89997b35a button');\n",
              "      quickchartButtonEl.style.display =\n",
              "        google.colab.kernel.accessAllowed ? 'block' : 'none';\n",
              "    })();\n",
              "  </script>\n",
              "</div>\n",
              "\n",
              "    </div>\n",
              "  </div>\n"
            ],
            "application/vnd.google.colaboratory.intrinsic+json": {
              "type": "dataframe",
              "variable_name": "planilha_mc_corrigida",
              "summary": "{\n  \"name\": \"planilha_mc_corrigida\",\n  \"rows\": 47804,\n  \"fields\": [\n    {\n      \"column\": \"Regi\\u00e3o Pa\\u00eds\",\n      \"properties\": {\n        \"dtype\": \"category\",\n        \"num_unique_values\": 5,\n        \"samples\": [\n          \"Sudeste\",\n          \"Centro Oeste\",\n          \"Sul\"\n        ],\n        \"semantic_type\": \"\",\n        \"description\": \"\"\n      }\n    },\n    {\n      \"column\": \"Estado\",\n      \"properties\": {\n        \"dtype\": \"category\",\n        \"num_unique_values\": 25,\n        \"samples\": [\n          \"Par\\u00e1\",\n          \"Distrito Federal\",\n          \"Piau\\u00ed\"\n        ],\n        \"semantic_type\": \"\",\n        \"description\": \"\"\n      }\n    },\n    {\n      \"column\": \"Data\",\n      \"properties\": {\n        \"dtype\": \"date\",\n        \"min\": \"2023-09-01 00:00:00\",\n        \"max\": \"2024-05-01 00:00:00\",\n        \"num_unique_values\": 244,\n        \"samples\": [\n          \"2023-12-15 00:00:00\",\n          \"2023-12-31 00:00:00\",\n          \"2024-01-18 00:00:00\"\n        ],\n        \"semantic_type\": \"\",\n        \"description\": \"\"\n      }\n    },\n    {\n      \"column\": \"FormaPagto\",\n      \"properties\": {\n        \"dtype\": \"category\",\n        \"num_unique_values\": 5,\n        \"samples\": [\n          \"Boleto Banc\\u00e1rio\",\n          \"Pix\",\n          \"Dinheiro\"\n        ],\n        \"semantic_type\": \"\",\n        \"description\": \"\"\n      }\n    },\n    {\n      \"column\": \"Sexo Informado Cliente\",\n      \"properties\": {\n        \"dtype\": \"category\",\n        \"num_unique_values\": 3,\n        \"samples\": [\n          \"F\",\n          \"M\",\n          \"N\\u00e3o informado\"\n        ],\n        \"semantic_type\": \"\",\n        \"description\": \"\"\n      }\n    },\n    {\n      \"column\": \"Idade\",\n      \"properties\": {\n        \"dtype\": \"number\",\n        \"std\": 13,\n        \"min\": 18,\n        \"max\": 87,\n        \"num_unique_values\": 58,\n        \"samples\": [\n          22,\n          18,\n          47\n        ],\n        \"semantic_type\": \"\",\n        \"description\": \"\"\n      }\n    },\n    {\n      \"column\": \"valor ticket m\\u00e9dio\",\n      \"properties\": {\n        \"dtype\": \"number\",\n        \"std\": 157,\n        \"min\": 15,\n        \"max\": 690,\n        \"num_unique_values\": 675,\n        \"samples\": [\n          217,\n          296,\n          531\n        ],\n        \"semantic_type\": \"\",\n        \"description\": \"\"\n      }\n    },\n    {\n      \"column\": \"numero pedido\",\n      \"properties\": {\n        \"dtype\": \"number\",\n        \"std\": 970023,\n        \"min\": 35245398,\n        \"max\": 38612234,\n        \"num_unique_values\": 47431,\n        \"samples\": [\n          36505632,\n          37799410,\n          38436097\n        ],\n        \"semantic_type\": \"\",\n        \"description\": \"\"\n      }\n    }\n  ]\n}"
            }
          },
          "metadata": {},
          "execution_count": 27
        }
      ]
    },
    {
      "cell_type": "markdown",
      "source": [
        "# Abaixo novamente realizando consulta das idades e valores do ticket medio, só que, da nova planilha para fim de comparação."
      ],
      "metadata": {
        "id": "awEU07T0l5Dq"
      }
    },
    {
      "cell_type": "code",
      "source": [
        "# Filtrando as idades entre 18 e 90 anos\n",
        "idades_filtradas = planilha_mc_corrigida[(planilha_mc_corrigida['Idade'] >= 18) & (planilha_mc_corrigida['Idade'] <= 90)]\n",
        "\n",
        "# Contando o número de linhas que temos de clientes entre essa idade:\n",
        "qtd_idades_filtradas = idades_filtradas.shape[0]\n",
        "\n",
        "# Exibindo o resultado\n",
        "print(f\"O número de linhas com idades entre 18 e 90 anos é: {qtd_idades_filtradas}\")"
      ],
      "metadata": {
        "colab": {
          "base_uri": "https://localhost:8080/"
        },
        "id": "gHxvY9NuPC-J",
        "outputId": "e059ae6b-b734-4f0c-d023-3dcdb0c76555"
      },
      "execution_count": 28,
      "outputs": [
        {
          "output_type": "stream",
          "name": "stdout",
          "text": [
            "O número de linhas com idades entre 18 e 90 anos é: 47804\n"
          ]
        }
      ]
    },
    {
      "cell_type": "code",
      "source": [
        "# Verificando se há valores não numéricos na coluna 'valor ticket médio'\n",
        "nao_numericos_ticket_medio = planilha_mc_corrigida['valor ticket médio'].apply(lambda x: not isinstance(x, (int, float))).sum()\n",
        "\n",
        "if nao_numericos_ticket_medio > 0:\n",
        "    print(f\"Há {nao_numericos_ticket_medio} valores não numéricos na coluna 'valor ticket médio'.\")\n",
        "else:\n",
        "    print(\"Todos os valores na coluna 'valor ticket médio' são numéricos.\")\n"
      ],
      "metadata": {
        "colab": {
          "base_uri": "https://localhost:8080/"
        },
        "id": "2UBKygRTPifG",
        "outputId": "c4213527-0991-43e4-aa90-cde318a37ed0"
      },
      "execution_count": 29,
      "outputs": [
        {
          "output_type": "stream",
          "name": "stdout",
          "text": [
            "Todos os valores na coluna 'valor ticket médio' são numéricos.\n"
          ]
        }
      ]
    },
    {
      "cell_type": "code",
      "source": [
        "# Verificando se há valores iguais a 0 ou negativos na coluna 'valor ticket médio'\n",
        "valores_inconsistentes = planilha_mc_corrigida['valor ticket médio'] <= 0\n",
        "\n",
        "# Exibindo as linhas que têm valores inconsistentes\n",
        "linhas_inconsistentes = planilha_mc_corrigida[valores_inconsistentes]\n",
        "\n",
        "if not linhas_inconsistentes.empty:\n",
        "    print(\"Há valores iguais a 0 ou negativos na coluna 'valor ticket médio':\")\n",
        "    print(linhas_inconsistentes)\n",
        "else:\n",
        "    print(\"Não há valores iguais a 0 ou negativos na coluna 'valor ticket médio'.\")"
      ],
      "metadata": {
        "colab": {
          "base_uri": "https://localhost:8080/"
        },
        "id": "svtQPeiiCrDN",
        "outputId": "a7c90a32-6ced-4f07-b254-d86b56b2f237"
      },
      "execution_count": 30,
      "outputs": [
        {
          "output_type": "stream",
          "name": "stdout",
          "text": [
            "Não há valores iguais a 0 ou negativos na coluna 'valor ticket médio'.\n"
          ]
        }
      ]
    },
    {
      "cell_type": "code",
      "source": [
        "# Calculando o ticket médio considerando todos os dados corrigido\n",
        "ticket_medio_total_corrigida = planilha_mc_corrigida['valor ticket médio'].mean()\n",
        "print(f\"Ticket médio de vendas considerando todos os dados corrigidos: {ticket_medio_total_corrigida}\")"
      ],
      "metadata": {
        "colab": {
          "base_uri": "https://localhost:8080/"
        },
        "id": "8UZzYrP9RkkK",
        "outputId": "df36ef7a-768d-4b02-aa59-7adb93df24a9"
      },
      "execution_count": 31,
      "outputs": [
        {
          "output_type": "stream",
          "name": "stdout",
          "text": [
            "Ticket médio de vendas considerando todos os dados corrigidos: 236.97546230440966\n"
          ]
        }
      ]
    },
    {
      "cell_type": "code",
      "source": [
        "# Realizando o teste t\n",
        "t_stat, p_value = stats.ttest_ind(planilha_mc_corrigida['valor ticket médio'], dados_sem_outliers_ticket_medio['valor ticket médio'])\n",
        "\n",
        "print(f\"T-statistic: {t_stat}\")\n",
        "print(f\"P-value: {p_value}\")\n",
        "\n",
        "# Interpretando o p-value\n",
        "alpha = 0.05\n",
        "if p_value < alpha:\n",
        "    print(\"A diferença entre as médias é estatisticamente significativa.\")\n",
        "else:\n",
        "    print(\"A diferença entre as médias não é estatisticamente significativa.\")"
      ],
      "metadata": {
        "colab": {
          "base_uri": "https://localhost:8080/"
        },
        "id": "5vGQDNgKPvre",
        "outputId": "207991c6-8bc3-4ceb-dd38-920a63045c9c"
      },
      "execution_count": 32,
      "outputs": [
        {
          "output_type": "stream",
          "name": "stdout",
          "text": [
            "T-statistic: 0.4463408236611628\n",
            "P-value: 0.6553520830081261\n",
            "A diferença entre as médias não é estatisticamente significativa.\n"
          ]
        }
      ]
    },
    {
      "cell_type": "markdown",
      "source": [
        "Acima podemos observar que novamente não há diferença entre as medias e que não são estatisticamente significativas.\n",
        "Porém, podemos a diferença dos valores com o anterior. Após o tratamento e analise dos dados, podemos afirmar que os dados estão fidedignos para apresentar para os gerentes da melhores compras."
      ],
      "metadata": {
        "id": "Gy42Fun4mc90"
      }
    },
    {
      "cell_type": "markdown",
      "source": [
        "# **Continuando nas analises e buscando auxiliar a area comercial para identificar o perfil dos clientes**"
      ],
      "metadata": {
        "id": "Kmh1dqKcpEZY"
      }
    },
    {
      "cell_type": "code",
      "source": [
        "# Criando as faixas etárias\n",
        "faixas_etarias = {\n",
        "    '18-24': (18, 24),\n",
        "    '25-34': (25, 34),\n",
        "    '35-44': (35, 44),\n",
        "    '45-54': (45, 54),\n",
        "    '55-64': (55, 64),\n",
        "    '65+': (65, 100)\n",
        "}\n",
        "\n",
        "# Criando a coluna 'Faixa Etária' no DataFrame\n",
        "planilha_mc_corrigida.loc[:, 'Faixa Etária'] = pd.cut(planilha_mc_corrigida['Idade'],\n",
        "                                                      bins=[faixas_etarias[faixa][0] - 0.1 for faixa in faixas_etarias.keys()] + [faixas_etarias['65+'][1] + 0.1],\n",
        "                                                      labels=faixas_etarias.keys())\n",
        "\n",
        "# Calculando a média do valor ticket médio por faixa etária\n",
        "media_ticket_faixa_etaria = planilha_mc_corrigida.groupby('Faixa Etária')['valor ticket médio'].mean().reset_index()\n",
        "\n",
        "# Exibindo a tabela de médias\n",
        "print(media_ticket_faixa_etaria)\n",
        "\n"
      ],
      "metadata": {
        "colab": {
          "base_uri": "https://localhost:8080/"
        },
        "id": "XfkEZdGxpfDd",
        "outputId": "7138bea2-844c-400a-ba15-14f71bcab0ec"
      },
      "execution_count": 33,
      "outputs": [
        {
          "output_type": "stream",
          "name": "stdout",
          "text": [
            "  Faixa Etária  valor ticket médio\n",
            "0        18-24           67.514137\n",
            "1        25-34          170.556666\n",
            "2        35-44          356.403997\n",
            "3        45-54          490.231832\n",
            "4        55-64          153.301118\n",
            "5          65+          107.064483\n"
          ]
        }
      ]
    },
    {
      "cell_type": "code",
      "source": [
        "# Estilo do gráfico\n",
        "sns.set_style(\"whitegrid\")\n",
        "\n",
        "# Criando o gráfico de barras com o Seaborn\n",
        "plt.figure(figsize=(10, 6))\n",
        "sns.barplot(x='Faixa Etária', y='valor ticket médio', data=media_ticket_faixa_etaria, palette='coolwarm')\n",
        "plt.xlabel('Faixa Etária')\n",
        "plt.ylabel('Valor Ticket Médio')\n",
        "plt.title('Média do Valor Ticket Médio por Faixa Etária')\n",
        "plt.xticks(rotation=45)\n",
        "plt.ylim(0, media_ticket_faixa_etaria['valor ticket médio'].max() * 1.1)  # Ajustando o limite do eixo Y\n",
        "plt.show()"
      ],
      "metadata": {
        "colab": {
          "base_uri": "https://localhost:8080/",
          "height": 680
        },
        "id": "15vnUTOPKvnU",
        "outputId": "09d65de6-b137-4532-c38e-66429895129c"
      },
      "execution_count": 34,
      "outputs": [
        {
          "output_type": "stream",
          "name": "stderr",
          "text": [
            "<ipython-input-34-a770f608513d>:6: FutureWarning: \n",
            "\n",
            "Passing `palette` without assigning `hue` is deprecated and will be removed in v0.14.0. Assign the `x` variable to `hue` and set `legend=False` for the same effect.\n",
            "\n",
            "  sns.barplot(x='Faixa Etária', y='valor ticket médio', data=media_ticket_faixa_etaria, palette='coolwarm')\n"
          ]
        },
        {
          "output_type": "display_data",
          "data": {
            "text/plain": [
              "<Figure size 1000x600 with 1 Axes>"
            ],
            "image/png": "[encoded data removed]"
          },
          "metadata": {}
        }
      ]
    },
    {
      "cell_type": "code",
      "source": [
        "# Calculando a idade média dos clientes selecionados\n",
        "idade_media = planilha_mc_corrigida['Idade'].mean()\n",
        "\n",
        "# Calculando a variância da idade\n",
        "variancia_idade = planilha_mc_corrigida['Idade'].var()\n",
        "\n",
        "# Calculando o desvio padrão da idade\n",
        "desvio_padrao_idade = planilha_mc_corrigida['Idade'].std()\n",
        "\n",
        "# Calculando o valor médio e mediana por faixa etária\n",
        "valor_medio_por_faixa = planilha_mc_corrigida.groupby('Faixa Etária')['valor ticket médio'].mean().reset_index()\n",
        "mediana_por_faixa = planilha_mc_corrigida.groupby('Faixa Etária')['valor ticket médio'].median().reset_index()\n",
        "\n",
        "# Calculando o ranking das vendas por faixa etária\n",
        "ranking_vendas_por_faixa = planilha_mc_corrigida.groupby('Faixa Etária')['valor ticket médio'].sum().sort_values(ascending=False).reset_index()\n",
        "\n",
        "# Exibindo as métricas calculadas\n",
        "print(\"Idade Média dos Clientes Selecionados:\", idade_media)\n",
        "print(\"Variância da Idade:\", variancia_idade)\n",
        "print(\"Desvio Padrão da Idade:\", desvio_padrao_idade)\n",
        "print(\"\\nValor Médio por Faixa Etária:\")\n",
        "print(valor_medio_por_faixa)\n",
        "print(\"\\nMediana por Faixa Etária:\")\n",
        "print(mediana_por_faixa)\n",
        "print(\"\\nRanking das Vendas por Faixa Etária:\")\n",
        "print(ranking_vendas_por_faixa)"
      ],
      "metadata": {
        "colab": {
          "base_uri": "https://localhost:8080/"
        },
        "id": "rJhxNlpBp61q",
        "outputId": "396357d1-035e-49ab-90d3-f2078f1f0181"
      },
      "execution_count": 35,
      "outputs": [
        {
          "output_type": "stream",
          "name": "stdout",
          "text": [
            "Idade Média dos Clientes Selecionados: 39.36519956488997\n",
            "Variância da Idade: 195.26938363692975\n",
            "Desvio Padrão da Idade: 13.97388219633076\n",
            "\n",
            "Valor Médio por Faixa Etária:\n",
            "  Faixa Etária  valor ticket médio\n",
            "0        18-24           67.514137\n",
            "1        25-34          170.556666\n",
            "2        35-44          356.403997\n",
            "3        45-54          490.231832\n",
            "4        55-64          153.301118\n",
            "5          65+          107.064483\n",
            "\n",
            "Mediana por Faixa Etária:\n",
            "  Faixa Etária  valor ticket médio\n",
            "0        18-24                68.0\n",
            "1        25-34               170.0\n",
            "2        35-44               357.0\n",
            "3        45-54               490.0\n",
            "4        55-64               153.0\n",
            "5          65+               107.0\n",
            "\n",
            "Ranking das Vendas por Faixa Etária:\n",
            "  Faixa Etária  valor ticket médio\n",
            "0        45-54             3831652\n",
            "1        35-44             3370869\n",
            "2        25-34             2134005\n",
            "3        55-64             1316550\n",
            "4        18-24              570697\n",
            "5          65+              104602\n"
          ]
        }
      ]
    },
    {
      "cell_type": "code",
      "source": [
        "# Definindo o estilo do gráfico\n",
        "sns.set_style(\"whitegrid\")\n",
        "\n",
        "# Criando o gráfico de barras com o Seaborn\n",
        "plt.figure(figsize=(12, 6))\n",
        "sns.barplot(x='Faixa Etária', y='valor ticket médio', data=mediana_por_faixa, palette='summer')\n",
        "plt.xlabel('Faixa Etária')\n",
        "plt.ylabel('Mediana')\n",
        "plt.title('Mediana por Faixa Etária')\n",
        "plt.xticks(rotation=45)\n",
        "plt.ylim(0, mediana_por_faixa['valor ticket médio'].max() * 1.1)  # Ajustando o limite do eixo Y\n",
        "plt.show()"
      ],
      "metadata": {
        "colab": {
          "base_uri": "https://localhost:8080/",
          "height": 680
        },
        "id": "Qzvm_m40rq49",
        "outputId": "65b28275-2cb8-4e59-eb4c-81544619d09a"
      },
      "execution_count": 36,
      "outputs": [
        {
          "output_type": "stream",
          "name": "stderr",
          "text": [
            "<ipython-input-36-74a6c5e58984>:6: FutureWarning: \n",
            "\n",
            "Passing `palette` without assigning `hue` is deprecated and will be removed in v0.14.0. Assign the `x` variable to `hue` and set `legend=False` for the same effect.\n",
            "\n",
            "  sns.barplot(x='Faixa Etária', y='valor ticket médio', data=mediana_por_faixa, palette='summer')\n"
          ]
        },
        {
          "output_type": "display_data",
          "data": {
            "text/plain": [
              "<Figure size 1200x600 with 1 Axes>"
            ],
            "image/png": "[encoded data removed]"
          },
          "metadata": {}
        }
      ]
    },
    {
      "cell_type": "code",
      "source": [
        "# Criando gráfico de barras para o ranking das vendas por faixa etária\n",
        "plt.figure(figsize=(12, 6))\n",
        "plt.bar(ranking_vendas_por_faixa['Faixa Etária'], ranking_vendas_por_faixa['valor ticket médio'], color='salmon')\n",
        "plt.xlabel('Faixa Etária')\n",
        "plt.ylabel('Vendas')\n",
        "plt.title('Ranking das Vendas por Faixa Etária')\n",
        "plt.xticks(rotation=45)\n",
        "plt.show()"
      ],
      "metadata": {
        "colab": {
          "base_uri": "https://localhost:8080/",
          "height": 589
        },
        "id": "nkRvtkZlrvrV",
        "outputId": "612703b4-e2e4-4e45-ac7b-e0c85c999639"
      },
      "execution_count": 37,
      "outputs": [
        {
          "output_type": "display_data",
          "data": {
            "text/plain": [
              "<Figure size 1200x600 with 1 Axes>"
            ],
            "image/png": "[encoded data removed]"
          },
          "metadata": {}
        }
      ]
    },
    {
      "cell_type": "markdown",
      "source": [
        "# **Outras Informações**"
      ],
      "metadata": {
        "id": "decT9bEO1_SS"
      }
    },
    {
      "cell_type": "markdown",
      "source": [
        "Calculo de valor medio ticket médio. A intenção é observar as regiões do país que mais consomem e a partir desse dado, oferecer ao comercial, marketing e direção das melhores compras."
      ],
      "metadata": {
        "id": "UwASly_52D0H"
      }
    },
    {
      "cell_type": "code",
      "source": [
        "# Calculando a média dos valores do ticket médio por região\n",
        "media_ticket_por_regiao = planilha_mc_corrigida.groupby('Região País')['valor ticket médio'].mean()\n",
        "\n",
        "# Deixando em ordem as regiões por valor médio do ticket\n",
        "media_ticket_por_regiao = media_ticket_por_regiao.sort_values()\n",
        "\n",
        "# Identificando o índice da região com maior média\n",
        "indice_maior_media = media_ticket_por_regiao.idxmax()\n",
        "\n",
        "# Criando o gráfico de barras destacando a maior média\n",
        "plt.figure(figsize=(10, 6))\n",
        "grafico = media_ticket_por_regiao.plot(kind='bar', color=['skyblue' if index != indice_maior_media else 'orange' for index in media_ticket_por_regiao.index])\n",
        "plt.title('Média do Valor Ticket Médio por Região')\n",
        "plt.xlabel('Região País')\n",
        "plt.ylabel('Média do Valor Ticket Médio')\n",
        "plt.xticks(rotation=45, ha='right')\n",
        "plt.tight_layout()\n",
        "\n",
        "# Adicionando os valores nas barras\n",
        "for i, v in enumerate(media_ticket_por_regiao):\n",
        "    plt.annotate(str(round(v, 2)), (i, v), ha='center', va='bottom')\n",
        "\n",
        "plt.show()\n",
        "\n"
      ],
      "metadata": {
        "colab": {
          "base_uri": "https://localhost:8080/",
          "height": 607
        },
        "id": "-wcLI_CJyVh5",
        "outputId": "af38fb79-744a-4cb5-88ff-a407ed53ebed"
      },
      "execution_count": 38,
      "outputs": [
        {
          "output_type": "display_data",
          "data": {
            "text/plain": [
              "<Figure size 1000x600 with 1 Axes>"
            ],
            "image/png": "[encoded data removed]"
          },
          "metadata": {}
        }
      ]
    },
    {
      "cell_type": "markdown",
      "source": [
        "# Obervação do sexo informado dos nossos clientes."
      ],
      "metadata": {
        "id": "6DlF_H1E3Buc"
      }
    },
    {
      "cell_type": "code",
      "source": [
        "# Contando o número de clientes por 'Sexo Informado Cliente'\n",
        "sexo_informado = planilha_mc_corrigida['Sexo Informado Cliente'].value_counts()\n",
        "\n",
        "# Criando o gráfico de pizza\n",
        "fig, ax = plt.subplots(figsize=(10, 6))\n",
        "wedges, texts, autotexts = ax.pie(sexo_informado, labels=sexo_informado.index, autopct='%1.1f%%', startangle=140, colors=['pink', 'blue', 'orange'], counterclock=False)\n",
        "\n",
        "# Adicionando uma legenda com o número de clientes e as cores\n",
        "legend_labels = [f'{label} - {value} clientes' for label, value in zip(sexo_informado.index, sexo_informado)]\n",
        "ax.legend(wedges, legend_labels, title='Sexo Informado Cliente', loc='center left', bbox_to_anchor=(1, 0, 0.5, 1))\n",
        "\n",
        "plt.title('Número de Clientes por Sexo Informado')\n",
        "plt.show()"
      ],
      "metadata": {
        "colab": {
          "base_uri": "https://localhost:8080/",
          "height": 521
        },
        "id": "H1TQPl1KcFGy",
        "outputId": "04f337ca-dfc4-40d3-be67-9ffe9e3dff87"
      },
      "execution_count": 39,
      "outputs": [
        {
          "output_type": "display_data",
          "data": {
            "text/plain": [
              "<Figure size 1000x600 with 1 Axes>"
            ],
            "image/png": "[encoded data removed]"
          },
          "metadata": {}
        }
      ]
    },
    {
      "cell_type": "markdown",
      "source": [
        "# **Pedidos duplicados**"
      ],
      "metadata": {
        "id": "f8MOeAesPiK_"
      }
    },
    {
      "cell_type": "code",
      "source": [
        "# criando script para consulta de pedidos duplicado:\n",
        "# importante consultar com a area financeira e logistica se interfere e se deveria ser um nº unico\n",
        "\n",
        "duplicacao_pedido = planilha_mc_corrigida.duplicated('numero pedido').sum()\n",
        "print(f\"Número de duplicatas de pedidos: {duplicacao_pedido}\")"
      ],
      "metadata": {
        "id": "MlrDnizAcFdT",
        "colab": {
          "base_uri": "https://localhost:8080/"
        },
        "outputId": "7128ad58-91f1-442a-9fde-cbf7cc234234"
      },
      "execution_count": 40,
      "outputs": [
        {
          "output_type": "stream",
          "name": "stdout",
          "text": [
            "Número de duplicatas de pedidos: 373\n"
          ]
        }
      ]
    },
    {
      "cell_type": "markdown",
      "source": [
        "Acima temos os numeros de pedidos duplicados, podem ser uma inconsistente."
      ],
      "metadata": {
        "id": "xfqwnL_qPnbH"
      }
    },
    {
      "cell_type": "code",
      "source": [
        "planilha_mc_corrigida['valor ticket médio'].describe()"
      ],
      "metadata": {
        "id": "25L8AwXdPDtN",
        "colab": {
          "base_uri": "https://localhost:8080/"
        },
        "outputId": "cb697163-4369-4b6d-803f-9e02d5bac85f"
      },
      "execution_count": 41,
      "outputs": [
        {
          "output_type": "execute_result",
          "data": {
            "text/plain": [
              "count    47804.000000\n",
              "mean       236.975462\n",
              "std        157.843656\n",
              "min         15.000000\n",
              "25%        118.000000\n",
              "50%        183.000000\n",
              "75%        346.000000\n",
              "max        690.000000\n",
              "Name: valor ticket médio, dtype: float64"
            ]
          },
          "metadata": {},
          "execution_count": 41
        }
      ]
    },
    {
      "cell_type": "markdown",
      "source": [
        "Acima vemos os números são estatísticas descritivas para a variável \"valor ticket médio\" de um conjunto de dados. Aqui está o que cada um significa:\n",
        "\n",
        "count: O número total de observações na variável. Neste caso, há 47.804 observações.\n",
        "mean: A média da variável, que é calculada somando todos os valores e dividindo pelo número de observações. A média do \"valor ticket médio\" é de aproximadamente 236,98.\n",
        "std: O desvio padrão, que mede a dispersão dos valores em torno da média. Um desvio padrão maior indica maior dispersão dos valores em relação à média. Neste caso, o desvio padrão é aproximadamente 157,84.\n",
        "min: O valor mínimo da variável, que é 15 neste conjunto de dados.\n",
        "25%: O primeiro quartil, que indica o valor abaixo do qual 25% dos dados estão. Neste caso, o primeiro quartil é 118.\n",
        "50%: O segundo quartil, que é a mediana, indicando o valor abaixo do qual 50% dos dados estão. Neste caso, a mediana é 183.\n",
        "75%: O terceiro quartil, indicando o valor abaixo do qual 75% dos dados estão. Neste caso, o terceiro quartil é 346.\n",
        "max: O valor máximo da variável, que é 690 neste conjunto de dados.\n",
        "Essas estatísticas são úteis para entender a distribuição da variável \"valor ticket médio\", incluindo sua tendência central (média), dispersão (desvio padrão) e os valores mínimos, máximos e quartis que dividem os dados em partes iguais."
      ],
      "metadata": {
        "id": "1SlpYqlvOCUd"
      }
    },
    {
      "cell_type": "code",
      "source": [
        "idade_correlacao = planilha_mc_corrigida\n",
        "correlacao = idade_correlacao['valor ticket médio'].corr(idade_correlacao['Idade'])\n",
        "idade_correlacao['valor ticket médio'].corr(idade_correlacao['Idade'])"
      ],
      "metadata": {
        "colab": {
          "base_uri": "https://localhost:8080/"
        },
        "id": "uuTZ4AhKLwNa",
        "outputId": "373bbca3-ba20-4e4d-c487-1080d24702b8"
      },
      "execution_count": 42,
      "outputs": [
        {
          "output_type": "execute_result",
          "data": {
            "text/plain": [
              "0.3484585547111574"
            ]
          },
          "metadata": {},
          "execution_count": 42
        }
      ]
    },
    {
      "cell_type": "markdown",
      "source": [
        "Assim temos resultado da correlação entre as colunas 'valor ticket médio' e 'Idade' da sua planilha (0.3484585547111574) indica uma correlação positiva fraca entre essas duas variáveis.\n",
        "\n",
        "Isso significa que, à medida que a idade aumenta, o valor médio do ticket tende a aumentar ligeiramente. No entanto, a correlação não é muito forte, sugerindo que outros fatores também influenciam o valor médio do ticket, além da idade."
      ],
      "metadata": {
        "id": "EnefzUmbN_3t"
      }
    },
    {
      "cell_type": "code",
      "source": [],
      "metadata": {
        "id": "s2RTdmTNTkcr"
      },
      "execution_count": 42,
      "outputs": []
    }
  ]
}